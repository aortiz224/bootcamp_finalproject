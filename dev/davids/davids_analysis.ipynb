{
 "cells": [
  {
   "cell_type": "code",
   "execution_count": 22,
   "id": "3346e044",
   "metadata": {},
   "outputs": [],
   "source": [
    "# Import dependencies\n",
    "import os\n",
    "import pandas\n",
    "import matplotlib\n",
    "import scipy"
   ]
  },
  {
   "cell_type": "code",
   "execution_count": 23,
   "id": "fbe169df",
   "metadata": {},
   "outputs": [
    {
     "data": {
      "text/plain": [
       "True"
      ]
     },
     "execution_count": 23,
     "metadata": {},
     "output_type": "execute_result"
    }
   ],
   "source": [
    "# Find path\n",
    "find_dataset = os.path.isdir('/Users/davidadams/pycharmprojects/final_project/bootcamp_finalproject/dev/davids/datasets/')\n",
    "find_dataset"
   ]
  },
  {
   "cell_type": "code",
   "execution_count": 24,
   "id": "3b7a36d8",
   "metadata": {},
   "outputs": [],
   "source": [
    "# Create file path\n",
    "file_path = '/Users/davidadams/pycharmprojects/final_project/bootcamp_finalproject/dev/davids/datasets/new_kaggle_data.csv'\n"
   ]
  },
  {
   "cell_type": "code",
   "execution_count": 25,
   "id": "ebd963da",
   "metadata": {},
   "outputs": [
    {
     "data": {
      "text/html": [
       "<div>\n",
       "<style scoped>\n",
       "    .dataframe tbody tr th:only-of-type {\n",
       "        vertical-align: middle;\n",
       "    }\n",
       "\n",
       "    .dataframe tbody tr th {\n",
       "        vertical-align: top;\n",
       "    }\n",
       "\n",
       "    .dataframe thead th {\n",
       "        text-align: right;\n",
       "    }\n",
       "</style>\n",
       "<table border=\"1\" class=\"dataframe\">\n",
       "  <thead>\n",
       "    <tr style=\"text-align: right;\">\n",
       "      <th></th>\n",
       "      <th>title</th>\n",
       "      <th>name</th>\n",
       "      <th>creator</th>\n",
       "      <th>art_series</th>\n",
       "      <th>price</th>\n",
       "      <th>symbol</th>\n",
       "      <th>type</th>\n",
       "      <th>likes</th>\n",
       "      <th>nsfw</th>\n",
       "      <th>tokens</th>\n",
       "      <th>year</th>\n",
       "      <th>cid</th>\n",
       "      <th>sell_value</th>\n",
       "      <th>nft_token_value</th>\n",
       "      <th>token_price</th>\n",
       "      <th>potential_profit</th>\n",
       "      <th>Unnamed: 16</th>\n",
       "      <th>Unnamed: 17</th>\n",
       "    </tr>\n",
       "  </thead>\n",
       "  <tbody>\n",
       "    <tr>\n",
       "      <th>0</th>\n",
       "      <td>Sexy Art</td>\n",
       "      <td>long legs</td>\n",
       "      <td>badsexy</td>\n",
       "      <td>badsexy_sexy-art_long-legs</td>\n",
       "      <td>10.0</td>\n",
       "      <td>SWAP.HIVE</td>\n",
       "      <td>PHOTO</td>\n",
       "      <td>0</td>\n",
       "      <td>True</td>\n",
       "      <td>2</td>\n",
       "      <td>2021</td>\n",
       "      <td>QmaifAjZTJd8jTxNrwSoGWmFpbPYcszMF4ZcZDBwpRR4v4</td>\n",
       "      <td>20.0</td>\n",
       "      <td>7.572888</td>\n",
       "      <td>0.378644</td>\n",
       "      <td>12.427112</td>\n",
       "      <td>NaN</td>\n",
       "      <td>NaN</td>\n",
       "    </tr>\n",
       "    <tr>\n",
       "      <th>1</th>\n",
       "      <td>nothing is real, all is real</td>\n",
       "      <td>Isn¬¥t she lovely</td>\n",
       "      <td>solymi</td>\n",
       "      <td>solymi_nothing-is-real-all-is-real_isnt-she-lo...</td>\n",
       "      <td>19.0</td>\n",
       "      <td>SWAP.HIVE</td>\n",
       "      <td>GIF</td>\n",
       "      <td>2</td>\n",
       "      <td>True</td>\n",
       "      <td>6</td>\n",
       "      <td>2021</td>\n",
       "      <td>QmR8p6kKW6cUB1Jc7F2yoLGmgV38pPwVK6eW2zhbuwDrVF</td>\n",
       "      <td>114.0</td>\n",
       "      <td>43.165463</td>\n",
       "      <td>0.378644</td>\n",
       "      <td>70.834537</td>\n",
       "      <td>NaN</td>\n",
       "      <td>NaN</td>\n",
       "    </tr>\n",
       "    <tr>\n",
       "      <th>2</th>\n",
       "      <td>trippy_emmeline</td>\n",
       "      <td>Emmeline on LSD</td>\n",
       "      <td>solymi</td>\n",
       "      <td>solymi_trippy-emmeline_emmeline-on-lsd</td>\n",
       "      <td>64.0</td>\n",
       "      <td>SWAP.HIVE</td>\n",
       "      <td>GIF</td>\n",
       "      <td>1</td>\n",
       "      <td>False</td>\n",
       "      <td>3</td>\n",
       "      <td>2021</td>\n",
       "      <td>QmT8sh5XLP83x1CWEksJJajQ7xKe3MAejPUjke9D8grPbS</td>\n",
       "      <td>192.0</td>\n",
       "      <td>72.699727</td>\n",
       "      <td>0.378644</td>\n",
       "      <td>119.300273</td>\n",
       "      <td>NaN</td>\n",
       "      <td>NaN</td>\n",
       "    </tr>\n",
       "    <tr>\n",
       "      <th>3</th>\n",
       "      <td>Tentacle Monster</td>\n",
       "      <td>Tentacle Monster</td>\n",
       "      <td>theia7</td>\n",
       "      <td>theia7_tentacle-monster_tentacle-monster</td>\n",
       "      <td>68.0</td>\n",
       "      <td>SWAP.HIVE</td>\n",
       "      <td>GIF</td>\n",
       "      <td>0</td>\n",
       "      <td>False</td>\n",
       "      <td>1</td>\n",
       "      <td>2021</td>\n",
       "      <td>QmfGX5kdXvc77PYsgA4GUkNkyxNamiKB2qndPBYMuvHgqF</td>\n",
       "      <td>68.0</td>\n",
       "      <td>25.747820</td>\n",
       "      <td>0.378644</td>\n",
       "      <td>42.252180</td>\n",
       "      <td>NaN</td>\n",
       "      <td>NaN</td>\n",
       "    </tr>\n",
       "    <tr>\n",
       "      <th>4</th>\n",
       "      <td>Crypto Stamps</td>\n",
       "      <td>Hive Crypto Stamp</td>\n",
       "      <td>aleister</td>\n",
       "      <td>aleister_crypto-stamps_hive-crypto-stamp</td>\n",
       "      <td>40.0</td>\n",
       "      <td>SWAP.HIVE</td>\n",
       "      <td>GIF</td>\n",
       "      <td>3</td>\n",
       "      <td>False</td>\n",
       "      <td>10</td>\n",
       "      <td>2021</td>\n",
       "      <td>QmZxS7JyxrPwaJr2vW2D67eWbErF95dg9YEMXnu3RtLzBB</td>\n",
       "      <td>400.0</td>\n",
       "      <td>151.457764</td>\n",
       "      <td>0.378644</td>\n",
       "      <td>248.542236</td>\n",
       "      <td>NaN</td>\n",
       "      <td>NaN</td>\n",
       "    </tr>\n",
       "    <tr>\n",
       "      <th>...</th>\n",
       "      <td>...</td>\n",
       "      <td>...</td>\n",
       "      <td>...</td>\n",
       "      <td>...</td>\n",
       "      <td>...</td>\n",
       "      <td>...</td>\n",
       "      <td>...</td>\n",
       "      <td>...</td>\n",
       "      <td>...</td>\n",
       "      <td>...</td>\n",
       "      <td>...</td>\n",
       "      <td>...</td>\n",
       "      <td>...</td>\n",
       "      <td>...</td>\n",
       "      <td>...</td>\n",
       "      <td>...</td>\n",
       "      <td>...</td>\n",
       "      <td>...</td>\n",
       "    </tr>\n",
       "    <tr>\n",
       "      <th>3559</th>\n",
       "      <td>Abstract Erotica</td>\n",
       "      <td>Taste of Heaven</td>\n",
       "      <td>tntdabomb</td>\n",
       "      <td>tntdabomb_abstract-erotica_taste-of-heaven</td>\n",
       "      <td>50.0</td>\n",
       "      <td>SWAP.HIVE</td>\n",
       "      <td>PHOTO</td>\n",
       "      <td>0</td>\n",
       "      <td>False</td>\n",
       "      <td>10</td>\n",
       "      <td>2020</td>\n",
       "      <td>QmeNbzcYHKDzZFTuY3PqBPr5WGKMGmrjrTsKDKd7WTe422</td>\n",
       "      <td>500.0</td>\n",
       "      <td>101.524115</td>\n",
       "      <td>0.203048</td>\n",
       "      <td>398.475885</td>\n",
       "      <td>NaN</td>\n",
       "      <td>NaN</td>\n",
       "    </tr>\n",
       "    <tr>\n",
       "      <th>3560</th>\n",
       "      <td>GIF art</td>\n",
       "      <td>crypto thinkers</td>\n",
       "      <td>elgeko</td>\n",
       "      <td>elgeko_gif-art_crypto-thinkers</td>\n",
       "      <td>99.0</td>\n",
       "      <td>SWAP.HIVE</td>\n",
       "      <td>GIF</td>\n",
       "      <td>0</td>\n",
       "      <td>False</td>\n",
       "      <td>5</td>\n",
       "      <td>2020</td>\n",
       "      <td>QmQZDfsTyqH7uQe75NqeVmtzvNW9eN45hXpexekixeWM4F</td>\n",
       "      <td>495.0</td>\n",
       "      <td>100.508874</td>\n",
       "      <td>0.203048</td>\n",
       "      <td>394.491126</td>\n",
       "      <td>NaN</td>\n",
       "      <td>NaN</td>\n",
       "    </tr>\n",
       "    <tr>\n",
       "      <th>3561</th>\n",
       "      <td>Eye</td>\n",
       "      <td>Eye Of The Beholder</td>\n",
       "      <td>rubenalexander</td>\n",
       "      <td>rubenalexander_eye_eye-of-the-beholder</td>\n",
       "      <td>50.0</td>\n",
       "      <td>SWAP.HIVE</td>\n",
       "      <td>PHOTO</td>\n",
       "      <td>0</td>\n",
       "      <td>False</td>\n",
       "      <td>3</td>\n",
       "      <td>2020</td>\n",
       "      <td>QmWTT58erwH6Vtv8UJNNM6mmWuwZNsWAYygRXmHnpJeeBa</td>\n",
       "      <td>150.0</td>\n",
       "      <td>30.457234</td>\n",
       "      <td>0.203048</td>\n",
       "      <td>119.542766</td>\n",
       "      <td>NaN</td>\n",
       "      <td>NaN</td>\n",
       "    </tr>\n",
       "    <tr>\n",
       "      <th>3562</th>\n",
       "      <td>HIVE ART</td>\n",
       "      <td>online art - Cryptoverse</td>\n",
       "      <td>elgeko</td>\n",
       "      <td>elgeko_hive-art_online-art-cryptoverse</td>\n",
       "      <td>99.0</td>\n",
       "      <td>SWAP.HIVE</td>\n",
       "      <td>GIF</td>\n",
       "      <td>0</td>\n",
       "      <td>False</td>\n",
       "      <td>7</td>\n",
       "      <td>2020</td>\n",
       "      <td>QmSAFuLYMpkszCY45ednQpzjSYCpkpZzurygvWHCTP1yo9</td>\n",
       "      <td>693.0</td>\n",
       "      <td>140.712423</td>\n",
       "      <td>0.203048</td>\n",
       "      <td>552.287577</td>\n",
       "      <td>NaN</td>\n",
       "      <td>NaN</td>\n",
       "    </tr>\n",
       "    <tr>\n",
       "      <th>3563</th>\n",
       "      <td>fine arts -  high resolution printable artworks</td>\n",
       "      <td>Dirty laundry in the fractal kitchen</td>\n",
       "      <td>elgeko</td>\n",
       "      <td>elgeko_fine-arts-high-resolution-printable-art...</td>\n",
       "      <td>700.0</td>\n",
       "      <td>SWAP.HIVE</td>\n",
       "      <td>PHOTO</td>\n",
       "      <td>0</td>\n",
       "      <td>False</td>\n",
       "      <td>1</td>\n",
       "      <td>2020</td>\n",
       "      <td>QmNYLy1vRaRYoGRMVmheRgMxPAcrUufoUJHFSe81DmzNB9</td>\n",
       "      <td>700.0</td>\n",
       "      <td>142.133761</td>\n",
       "      <td>0.203048</td>\n",
       "      <td>557.866239</td>\n",
       "      <td>NaN</td>\n",
       "      <td>NaN</td>\n",
       "    </tr>\n",
       "  </tbody>\n",
       "</table>\n",
       "<p>3564 rows × 18 columns</p>\n",
       "</div>"
      ],
      "text/plain": [
       "                                                title  \\\n",
       "0                                            Sexy Art   \n",
       "1                        nothing is real, all is real   \n",
       "2                                     trippy_emmeline   \n",
       "3                                    Tentacle Monster   \n",
       "4                                       Crypto Stamps   \n",
       "...                                               ...   \n",
       "3559                                 Abstract Erotica   \n",
       "3560                                          GIF art   \n",
       "3561                                              Eye   \n",
       "3562                                         HIVE ART   \n",
       "3563  fine arts -  high resolution printable artworks   \n",
       "\n",
       "                                      name         creator  \\\n",
       "0                                long legs         badsexy   \n",
       "1                        Isn¬¥t she lovely          solymi   \n",
       "2                          Emmeline on LSD          solymi   \n",
       "3                         Tentacle Monster          theia7   \n",
       "4                        Hive Crypto Stamp        aleister   \n",
       "...                                    ...             ...   \n",
       "3559                       Taste of Heaven       tntdabomb   \n",
       "3560                       crypto thinkers          elgeko   \n",
       "3561                   Eye Of The Beholder  rubenalexander   \n",
       "3562             online art - Cryptoverse           elgeko   \n",
       "3563  Dirty laundry in the fractal kitchen          elgeko   \n",
       "\n",
       "                                             art_series  price     symbol  \\\n",
       "0                            badsexy_sexy-art_long-legs   10.0  SWAP.HIVE   \n",
       "1     solymi_nothing-is-real-all-is-real_isnt-she-lo...   19.0  SWAP.HIVE   \n",
       "2                solymi_trippy-emmeline_emmeline-on-lsd   64.0  SWAP.HIVE   \n",
       "3              theia7_tentacle-monster_tentacle-monster   68.0  SWAP.HIVE   \n",
       "4              aleister_crypto-stamps_hive-crypto-stamp   40.0  SWAP.HIVE   \n",
       "...                                                 ...    ...        ...   \n",
       "3559         tntdabomb_abstract-erotica_taste-of-heaven   50.0  SWAP.HIVE   \n",
       "3560                     elgeko_gif-art_crypto-thinkers   99.0  SWAP.HIVE   \n",
       "3561             rubenalexander_eye_eye-of-the-beholder   50.0  SWAP.HIVE   \n",
       "3562             elgeko_hive-art_online-art-cryptoverse   99.0  SWAP.HIVE   \n",
       "3563  elgeko_fine-arts-high-resolution-printable-art...  700.0  SWAP.HIVE   \n",
       "\n",
       "       type  likes   nsfw  tokens  year  \\\n",
       "0     PHOTO      0   True       2  2021   \n",
       "1       GIF      2   True       6  2021   \n",
       "2       GIF      1  False       3  2021   \n",
       "3       GIF      0  False       1  2021   \n",
       "4       GIF      3  False      10  2021   \n",
       "...     ...    ...    ...     ...   ...   \n",
       "3559  PHOTO      0  False      10  2020   \n",
       "3560    GIF      0  False       5  2020   \n",
       "3561  PHOTO      0  False       3  2020   \n",
       "3562    GIF      0  False       7  2020   \n",
       "3563  PHOTO      0  False       1  2020   \n",
       "\n",
       "                                                 cid  sell_value  \\\n",
       "0     QmaifAjZTJd8jTxNrwSoGWmFpbPYcszMF4ZcZDBwpRR4v4        20.0   \n",
       "1     QmR8p6kKW6cUB1Jc7F2yoLGmgV38pPwVK6eW2zhbuwDrVF       114.0   \n",
       "2     QmT8sh5XLP83x1CWEksJJajQ7xKe3MAejPUjke9D8grPbS       192.0   \n",
       "3     QmfGX5kdXvc77PYsgA4GUkNkyxNamiKB2qndPBYMuvHgqF        68.0   \n",
       "4     QmZxS7JyxrPwaJr2vW2D67eWbErF95dg9YEMXnu3RtLzBB       400.0   \n",
       "...                                              ...         ...   \n",
       "3559  QmeNbzcYHKDzZFTuY3PqBPr5WGKMGmrjrTsKDKd7WTe422       500.0   \n",
       "3560  QmQZDfsTyqH7uQe75NqeVmtzvNW9eN45hXpexekixeWM4F       495.0   \n",
       "3561  QmWTT58erwH6Vtv8UJNNM6mmWuwZNsWAYygRXmHnpJeeBa       150.0   \n",
       "3562  QmSAFuLYMpkszCY45ednQpzjSYCpkpZzurygvWHCTP1yo9       693.0   \n",
       "3563  QmNYLy1vRaRYoGRMVmheRgMxPAcrUufoUJHFSe81DmzNB9       700.0   \n",
       "\n",
       "      nft_token_value  token_price  potential_profit  Unnamed: 16  Unnamed: 17  \n",
       "0            7.572888     0.378644         12.427112          NaN          NaN  \n",
       "1           43.165463     0.378644         70.834537          NaN          NaN  \n",
       "2           72.699727     0.378644        119.300273          NaN          NaN  \n",
       "3           25.747820     0.378644         42.252180          NaN          NaN  \n",
       "4          151.457764     0.378644        248.542236          NaN          NaN  \n",
       "...               ...          ...               ...          ...          ...  \n",
       "3559       101.524115     0.203048        398.475885          NaN          NaN  \n",
       "3560       100.508874     0.203048        394.491126          NaN          NaN  \n",
       "3561        30.457234     0.203048        119.542766          NaN          NaN  \n",
       "3562       140.712423     0.203048        552.287577          NaN          NaN  \n",
       "3563       142.133761     0.203048        557.866239          NaN          NaN  \n",
       "\n",
       "[3564 rows x 18 columns]"
      ]
     },
     "execution_count": 25,
     "metadata": {},
     "output_type": "execute_result"
    }
   ],
   "source": [
    "# Create datafram of new_kaggle_data.csv\n",
    "nft_kaggle_df = pandas.read_csv(file_path, low_memory=False)\n",
    "nft_kaggle_df"
   ]
  },
  {
   "cell_type": "code",
   "execution_count": 26,
   "id": "ed2fe5db",
   "metadata": {},
   "outputs": [],
   "source": [
    "# Delete last column\n",
    "del nft_kaggle_df['Unnamed: 17']"
   ]
  },
  {
   "cell_type": "code",
   "execution_count": 28,
   "id": "8537e7a1",
   "metadata": {},
   "outputs": [],
   "source": [
    "del nft_kaggle_df['Unnamed: 16']"
   ]
  },
  {
   "cell_type": "code",
   "execution_count": 36,
   "id": "7ba3632e",
   "metadata": {
    "scrolled": true
   },
   "outputs": [
    {
     "data": {
      "text/html": [
       "<div>\n",
       "<style scoped>\n",
       "    .dataframe tbody tr th:only-of-type {\n",
       "        vertical-align: middle;\n",
       "    }\n",
       "\n",
       "    .dataframe tbody tr th {\n",
       "        vertical-align: top;\n",
       "    }\n",
       "\n",
       "    .dataframe thead th {\n",
       "        text-align: right;\n",
       "    }\n",
       "</style>\n",
       "<table border=\"1\" class=\"dataframe\">\n",
       "  <thead>\n",
       "    <tr style=\"text-align: right;\">\n",
       "      <th></th>\n",
       "      <th>title</th>\n",
       "      <th>name</th>\n",
       "      <th>creator</th>\n",
       "      <th>art_series</th>\n",
       "      <th>price</th>\n",
       "      <th>symbol</th>\n",
       "      <th>type</th>\n",
       "      <th>likes</th>\n",
       "      <th>nsfw</th>\n",
       "      <th>tokens</th>\n",
       "      <th>year</th>\n",
       "      <th>cid</th>\n",
       "      <th>sell_value</th>\n",
       "      <th>nft_token_value</th>\n",
       "      <th>token_price</th>\n",
       "      <th>potential_profit</th>\n",
       "    </tr>\n",
       "  </thead>\n",
       "  <tbody>\n",
       "    <tr>\n",
       "      <th>0</th>\n",
       "      <td>Sexy Art</td>\n",
       "      <td>long legs</td>\n",
       "      <td>badsexy</td>\n",
       "      <td>badsexy_sexy-art_long-legs</td>\n",
       "      <td>10.0</td>\n",
       "      <td>SWAP.HIVE</td>\n",
       "      <td>PHOTO</td>\n",
       "      <td>0</td>\n",
       "      <td>True</td>\n",
       "      <td>2</td>\n",
       "      <td>2021</td>\n",
       "      <td>QmaifAjZTJd8jTxNrwSoGWmFpbPYcszMF4ZcZDBwpRR4v4</td>\n",
       "      <td>20.0</td>\n",
       "      <td>7.572888</td>\n",
       "      <td>0.378644</td>\n",
       "      <td>12.427112</td>\n",
       "    </tr>\n",
       "    <tr>\n",
       "      <th>1</th>\n",
       "      <td>nothing is real, all is real</td>\n",
       "      <td>Isn¬¥t she lovely</td>\n",
       "      <td>solymi</td>\n",
       "      <td>solymi_nothing-is-real-all-is-real_isnt-she-lo...</td>\n",
       "      <td>19.0</td>\n",
       "      <td>SWAP.HIVE</td>\n",
       "      <td>GIF</td>\n",
       "      <td>2</td>\n",
       "      <td>True</td>\n",
       "      <td>6</td>\n",
       "      <td>2021</td>\n",
       "      <td>QmR8p6kKW6cUB1Jc7F2yoLGmgV38pPwVK6eW2zhbuwDrVF</td>\n",
       "      <td>114.0</td>\n",
       "      <td>43.165463</td>\n",
       "      <td>0.378644</td>\n",
       "      <td>70.834537</td>\n",
       "    </tr>\n",
       "    <tr>\n",
       "      <th>2</th>\n",
       "      <td>trippy_emmeline</td>\n",
       "      <td>Emmeline on LSD</td>\n",
       "      <td>solymi</td>\n",
       "      <td>solymi_trippy-emmeline_emmeline-on-lsd</td>\n",
       "      <td>64.0</td>\n",
       "      <td>SWAP.HIVE</td>\n",
       "      <td>GIF</td>\n",
       "      <td>1</td>\n",
       "      <td>False</td>\n",
       "      <td>3</td>\n",
       "      <td>2021</td>\n",
       "      <td>QmT8sh5XLP83x1CWEksJJajQ7xKe3MAejPUjke9D8grPbS</td>\n",
       "      <td>192.0</td>\n",
       "      <td>72.699727</td>\n",
       "      <td>0.378644</td>\n",
       "      <td>119.300273</td>\n",
       "    </tr>\n",
       "    <tr>\n",
       "      <th>3</th>\n",
       "      <td>Tentacle Monster</td>\n",
       "      <td>Tentacle Monster</td>\n",
       "      <td>theia7</td>\n",
       "      <td>theia7_tentacle-monster_tentacle-monster</td>\n",
       "      <td>68.0</td>\n",
       "      <td>SWAP.HIVE</td>\n",
       "      <td>GIF</td>\n",
       "      <td>0</td>\n",
       "      <td>False</td>\n",
       "      <td>1</td>\n",
       "      <td>2021</td>\n",
       "      <td>QmfGX5kdXvc77PYsgA4GUkNkyxNamiKB2qndPBYMuvHgqF</td>\n",
       "      <td>68.0</td>\n",
       "      <td>25.747820</td>\n",
       "      <td>0.378644</td>\n",
       "      <td>42.252180</td>\n",
       "    </tr>\n",
       "    <tr>\n",
       "      <th>4</th>\n",
       "      <td>Crypto Stamps</td>\n",
       "      <td>Hive Crypto Stamp</td>\n",
       "      <td>aleister</td>\n",
       "      <td>aleister_crypto-stamps_hive-crypto-stamp</td>\n",
       "      <td>40.0</td>\n",
       "      <td>SWAP.HIVE</td>\n",
       "      <td>GIF</td>\n",
       "      <td>3</td>\n",
       "      <td>False</td>\n",
       "      <td>10</td>\n",
       "      <td>2021</td>\n",
       "      <td>QmZxS7JyxrPwaJr2vW2D67eWbErF95dg9YEMXnu3RtLzBB</td>\n",
       "      <td>400.0</td>\n",
       "      <td>151.457764</td>\n",
       "      <td>0.378644</td>\n",
       "      <td>248.542236</td>\n",
       "    </tr>\n",
       "    <tr>\n",
       "      <th>...</th>\n",
       "      <td>...</td>\n",
       "      <td>...</td>\n",
       "      <td>...</td>\n",
       "      <td>...</td>\n",
       "      <td>...</td>\n",
       "      <td>...</td>\n",
       "      <td>...</td>\n",
       "      <td>...</td>\n",
       "      <td>...</td>\n",
       "      <td>...</td>\n",
       "      <td>...</td>\n",
       "      <td>...</td>\n",
       "      <td>...</td>\n",
       "      <td>...</td>\n",
       "      <td>...</td>\n",
       "      <td>...</td>\n",
       "    </tr>\n",
       "    <tr>\n",
       "      <th>3559</th>\n",
       "      <td>Abstract Erotica</td>\n",
       "      <td>Taste of Heaven</td>\n",
       "      <td>tntdabomb</td>\n",
       "      <td>tntdabomb_abstract-erotica_taste-of-heaven</td>\n",
       "      <td>50.0</td>\n",
       "      <td>SWAP.HIVE</td>\n",
       "      <td>PHOTO</td>\n",
       "      <td>0</td>\n",
       "      <td>False</td>\n",
       "      <td>10</td>\n",
       "      <td>2020</td>\n",
       "      <td>QmeNbzcYHKDzZFTuY3PqBPr5WGKMGmrjrTsKDKd7WTe422</td>\n",
       "      <td>500.0</td>\n",
       "      <td>101.524115</td>\n",
       "      <td>0.203048</td>\n",
       "      <td>398.475885</td>\n",
       "    </tr>\n",
       "    <tr>\n",
       "      <th>3560</th>\n",
       "      <td>GIF art</td>\n",
       "      <td>crypto thinkers</td>\n",
       "      <td>elgeko</td>\n",
       "      <td>elgeko_gif-art_crypto-thinkers</td>\n",
       "      <td>99.0</td>\n",
       "      <td>SWAP.HIVE</td>\n",
       "      <td>GIF</td>\n",
       "      <td>0</td>\n",
       "      <td>False</td>\n",
       "      <td>5</td>\n",
       "      <td>2020</td>\n",
       "      <td>QmQZDfsTyqH7uQe75NqeVmtzvNW9eN45hXpexekixeWM4F</td>\n",
       "      <td>495.0</td>\n",
       "      <td>100.508874</td>\n",
       "      <td>0.203048</td>\n",
       "      <td>394.491126</td>\n",
       "    </tr>\n",
       "    <tr>\n",
       "      <th>3561</th>\n",
       "      <td>Eye</td>\n",
       "      <td>Eye Of The Beholder</td>\n",
       "      <td>rubenalexander</td>\n",
       "      <td>rubenalexander_eye_eye-of-the-beholder</td>\n",
       "      <td>50.0</td>\n",
       "      <td>SWAP.HIVE</td>\n",
       "      <td>PHOTO</td>\n",
       "      <td>0</td>\n",
       "      <td>False</td>\n",
       "      <td>3</td>\n",
       "      <td>2020</td>\n",
       "      <td>QmWTT58erwH6Vtv8UJNNM6mmWuwZNsWAYygRXmHnpJeeBa</td>\n",
       "      <td>150.0</td>\n",
       "      <td>30.457234</td>\n",
       "      <td>0.203048</td>\n",
       "      <td>119.542766</td>\n",
       "    </tr>\n",
       "    <tr>\n",
       "      <th>3562</th>\n",
       "      <td>HIVE ART</td>\n",
       "      <td>online art - Cryptoverse</td>\n",
       "      <td>elgeko</td>\n",
       "      <td>elgeko_hive-art_online-art-cryptoverse</td>\n",
       "      <td>99.0</td>\n",
       "      <td>SWAP.HIVE</td>\n",
       "      <td>GIF</td>\n",
       "      <td>0</td>\n",
       "      <td>False</td>\n",
       "      <td>7</td>\n",
       "      <td>2020</td>\n",
       "      <td>QmSAFuLYMpkszCY45ednQpzjSYCpkpZzurygvWHCTP1yo9</td>\n",
       "      <td>693.0</td>\n",
       "      <td>140.712423</td>\n",
       "      <td>0.203048</td>\n",
       "      <td>552.287577</td>\n",
       "    </tr>\n",
       "    <tr>\n",
       "      <th>3563</th>\n",
       "      <td>fine arts -  high resolution printable artworks</td>\n",
       "      <td>Dirty laundry in the fractal kitchen</td>\n",
       "      <td>elgeko</td>\n",
       "      <td>elgeko_fine-arts-high-resolution-printable-art...</td>\n",
       "      <td>700.0</td>\n",
       "      <td>SWAP.HIVE</td>\n",
       "      <td>PHOTO</td>\n",
       "      <td>0</td>\n",
       "      <td>False</td>\n",
       "      <td>1</td>\n",
       "      <td>2020</td>\n",
       "      <td>QmNYLy1vRaRYoGRMVmheRgMxPAcrUufoUJHFSe81DmzNB9</td>\n",
       "      <td>700.0</td>\n",
       "      <td>142.133761</td>\n",
       "      <td>0.203048</td>\n",
       "      <td>557.866239</td>\n",
       "    </tr>\n",
       "  </tbody>\n",
       "</table>\n",
       "<p>3564 rows × 16 columns</p>\n",
       "</div>"
      ],
      "text/plain": [
       "                                                title  \\\n",
       "0                                            Sexy Art   \n",
       "1                        nothing is real, all is real   \n",
       "2                                     trippy_emmeline   \n",
       "3                                    Tentacle Monster   \n",
       "4                                       Crypto Stamps   \n",
       "...                                               ...   \n",
       "3559                                 Abstract Erotica   \n",
       "3560                                          GIF art   \n",
       "3561                                              Eye   \n",
       "3562                                         HIVE ART   \n",
       "3563  fine arts -  high resolution printable artworks   \n",
       "\n",
       "                                      name         creator  \\\n",
       "0                                long legs         badsexy   \n",
       "1                        Isn¬¥t she lovely          solymi   \n",
       "2                          Emmeline on LSD          solymi   \n",
       "3                         Tentacle Monster          theia7   \n",
       "4                        Hive Crypto Stamp        aleister   \n",
       "...                                    ...             ...   \n",
       "3559                       Taste of Heaven       tntdabomb   \n",
       "3560                       crypto thinkers          elgeko   \n",
       "3561                   Eye Of The Beholder  rubenalexander   \n",
       "3562             online art - Cryptoverse           elgeko   \n",
       "3563  Dirty laundry in the fractal kitchen          elgeko   \n",
       "\n",
       "                                             art_series  price     symbol  \\\n",
       "0                            badsexy_sexy-art_long-legs   10.0  SWAP.HIVE   \n",
       "1     solymi_nothing-is-real-all-is-real_isnt-she-lo...   19.0  SWAP.HIVE   \n",
       "2                solymi_trippy-emmeline_emmeline-on-lsd   64.0  SWAP.HIVE   \n",
       "3              theia7_tentacle-monster_tentacle-monster   68.0  SWAP.HIVE   \n",
       "4              aleister_crypto-stamps_hive-crypto-stamp   40.0  SWAP.HIVE   \n",
       "...                                                 ...    ...        ...   \n",
       "3559         tntdabomb_abstract-erotica_taste-of-heaven   50.0  SWAP.HIVE   \n",
       "3560                     elgeko_gif-art_crypto-thinkers   99.0  SWAP.HIVE   \n",
       "3561             rubenalexander_eye_eye-of-the-beholder   50.0  SWAP.HIVE   \n",
       "3562             elgeko_hive-art_online-art-cryptoverse   99.0  SWAP.HIVE   \n",
       "3563  elgeko_fine-arts-high-resolution-printable-art...  700.0  SWAP.HIVE   \n",
       "\n",
       "       type  likes   nsfw  tokens  year  \\\n",
       "0     PHOTO      0   True       2  2021   \n",
       "1       GIF      2   True       6  2021   \n",
       "2       GIF      1  False       3  2021   \n",
       "3       GIF      0  False       1  2021   \n",
       "4       GIF      3  False      10  2021   \n",
       "...     ...    ...    ...     ...   ...   \n",
       "3559  PHOTO      0  False      10  2020   \n",
       "3560    GIF      0  False       5  2020   \n",
       "3561  PHOTO      0  False       3  2020   \n",
       "3562    GIF      0  False       7  2020   \n",
       "3563  PHOTO      0  False       1  2020   \n",
       "\n",
       "                                                 cid  sell_value  \\\n",
       "0     QmaifAjZTJd8jTxNrwSoGWmFpbPYcszMF4ZcZDBwpRR4v4        20.0   \n",
       "1     QmR8p6kKW6cUB1Jc7F2yoLGmgV38pPwVK6eW2zhbuwDrVF       114.0   \n",
       "2     QmT8sh5XLP83x1CWEksJJajQ7xKe3MAejPUjke9D8grPbS       192.0   \n",
       "3     QmfGX5kdXvc77PYsgA4GUkNkyxNamiKB2qndPBYMuvHgqF        68.0   \n",
       "4     QmZxS7JyxrPwaJr2vW2D67eWbErF95dg9YEMXnu3RtLzBB       400.0   \n",
       "...                                              ...         ...   \n",
       "3559  QmeNbzcYHKDzZFTuY3PqBPr5WGKMGmrjrTsKDKd7WTe422       500.0   \n",
       "3560  QmQZDfsTyqH7uQe75NqeVmtzvNW9eN45hXpexekixeWM4F       495.0   \n",
       "3561  QmWTT58erwH6Vtv8UJNNM6mmWuwZNsWAYygRXmHnpJeeBa       150.0   \n",
       "3562  QmSAFuLYMpkszCY45ednQpzjSYCpkpZzurygvWHCTP1yo9       693.0   \n",
       "3563  QmNYLy1vRaRYoGRMVmheRgMxPAcrUufoUJHFSe81DmzNB9       700.0   \n",
       "\n",
       "      nft_token_value  token_price  potential_profit  \n",
       "0            7.572888     0.378644         12.427112  \n",
       "1           43.165463     0.378644         70.834537  \n",
       "2           72.699727     0.378644        119.300273  \n",
       "3           25.747820     0.378644         42.252180  \n",
       "4          151.457764     0.378644        248.542236  \n",
       "...               ...          ...               ...  \n",
       "3559       101.524115     0.203048        398.475885  \n",
       "3560       100.508874     0.203048        394.491126  \n",
       "3561        30.457234     0.203048        119.542766  \n",
       "3562       140.712423     0.203048        552.287577  \n",
       "3563       142.133761     0.203048        557.866239  \n",
       "\n",
       "[3564 rows x 16 columns]"
      ]
     },
     "execution_count": 36,
     "metadata": {},
     "output_type": "execute_result"
    }
   ],
   "source": [
    "# Show new dataframe\n",
    "nft_kaggle_df"
   ]
  },
  {
   "cell_type": "code",
   "execution_count": 34,
   "id": "3a68d0f7",
   "metadata": {},
   "outputs": [],
   "source": [
    "# Data discovery\n",
    "# Show scatter plots of different aspects of the dataframe"
   ]
  },
  {
   "cell_type": "code",
   "execution_count": 40,
   "id": "befd8cd7",
   "metadata": {},
   "outputs": [
    {
     "data": {
      "text/plain": [
       "<AxesSubplot:xlabel='nft_token_value', ylabel='sell_value'>"
      ]
     },
     "execution_count": 40,
     "metadata": {},
     "output_type": "execute_result"
    },
    {
     "data": {
      "image/png": "[encoded data removed]",
      "text/plain": [
       "<Figure size 432x288 with 1 Axes>"
      ]
     },
     "metadata": {
      "needs_background": "light"
     },
     "output_type": "display_data"
    }
   ],
   "source": [
    "# Sell value versus token value\n",
    "nft_kaggle_df.plot.scatter('nft_token_value', 'sell_value', s=None, c=None)"
   ]
  },
  {
   "cell_type": "code",
   "execution_count": 41,
   "id": "ea627587",
   "metadata": {},
   "outputs": [
    {
     "data": {
      "text/plain": [
       "<AxesSubplot:xlabel='tokens', ylabel='price'>"
      ]
     },
     "execution_count": 41,
     "metadata": {},
     "output_type": "execute_result"
    },
    {
     "data": {
      "image/png": "[encoded data removed]",
      "text/plain": [
       "<Figure size 432x288 with 1 Axes>"
      ]
     },
     "metadata": {
      "needs_background": "light"
     },
     "output_type": "display_data"
    }
   ],
   "source": [
    "# Token amount vs price sold\n",
    "nft_kaggle_df.plot.scatter('tokens', 'price', s=None, c=None)"
   ]
  },
  {
   "cell_type": "code",
   "execution_count": 42,
   "id": "89c30623",
   "metadata": {},
   "outputs": [
    {
     "data": {
      "text/plain": [
       "<AxesSubplot:xlabel='nft_token_value', ylabel='potential_profit'>"
      ]
     },
     "execution_count": 42,
     "metadata": {},
     "output_type": "execute_result"
    },
    {
     "data": {
      "image/png": "[encoded data removed]",
      "text/plain": [
       "<Figure size 432x288 with 1 Axes>"
      ]
     },
     "metadata": {
      "needs_background": "light"
     },
     "output_type": "display_data"
    }
   ],
   "source": [
    "# NFT token value vs potential profit\n",
    "nft_kaggle_df.plot.scatter('nft_token_value', 'potential_profit', s=None, c=None)"
   ]
  },
  {
   "cell_type": "code",
   "execution_count": 208,
   "id": "c60a501f",
   "metadata": {},
   "outputs": [],
   "source": [
    "# Get data overview of the selected sell value vs token value with matplot\n",
    "# lib\n",
    "# Import dependencies\n",
    "import matplotlib.pyplot as plt\n",
    "from matplotlib import style\n",
    "import pandas as pd\n",
    "import numpy as np\n",
    "from scipy.stats import linregress"
   ]
  },
  {
   "cell_type": "code",
   "execution_count": 209,
   "id": "ec136919",
   "metadata": {},
   "outputs": [],
   "source": [
    "# Create new dataframes for different types of nfts\n",
    "gif_nft_df = nft_kaggle_df[nft_kaggle_df[\"type\"] == \"GIF\"]\n",
    "photo_nft_df = nft_kaggle_df[nft_kaggle_df[\"type\"] == \"PHOTO\"]\n",
    "video_nft_df = nft_kaggle_df[nft_kaggle_df[\"type\"] == \"VIDEO\"]"
   ]
  },
  {
   "cell_type": "code",
   "execution_count": 210,
   "id": "d2f59657",
   "metadata": {},
   "outputs": [
    {
     "data": {
      "text/plain": [
       "type\n",
       "GIF       632\n",
       "PHOTO    2548\n",
       "VIDEO     384\n",
       "Name: cid, dtype: int64"
      ]
     },
     "execution_count": 210,
     "metadata": {},
     "output_type": "execute_result"
    }
   ],
   "source": [
    "# Get the total count for each type of nft\n",
    "nft_count_by_type = nft_kaggle_df.groupby([\"type\"]).count()[\"cid\"]\n",
    "nft_count_by_type"
   ]
  },
  {
   "cell_type": "code",
   "execution_count": 211,
   "id": "2501c269",
   "metadata": {},
   "outputs": [
    {
     "data": {
      "text/plain": [
       "title                object\n",
       "name                 object\n",
       "creator              object\n",
       "art_series           object\n",
       "price               float64\n",
       "symbol               object\n",
       "type                 object\n",
       "likes                 int64\n",
       "nsfw                   bool\n",
       "tokens                int64\n",
       "year                  int64\n",
       "cid                  object\n",
       "sell_value          float64\n",
       "nft_token_value     float64\n",
       "token_price         float64\n",
       "potential_profit    float64\n",
       "dtype: object"
      ]
     },
     "execution_count": 211,
     "metadata": {},
     "output_type": "execute_result"
    }
   ],
   "source": [
    "nft_kaggle_df.dtypes"
   ]
  },
  {
   "cell_type": "code",
   "execution_count": 212,
   "id": "25261aac",
   "metadata": {},
   "outputs": [
    {
     "data": {
      "text/plain": [
       "cid\n",
       "QmNLuWLQ7fdKSZw6AvtA9HR5y3MnoU2DYYRXZbzmjwwEQN    1050.0\n",
       "QmNQ74c5vm9TvZCcUevzRfsPvEHQ5JxFzi4suFDMwiCH13     750.0\n",
       "QmNQPPB3rSEAtRVqMg95qM8tfwoD2YBkWkFBCq81gF2pVA     125.0\n",
       "QmNR3PgTZogkS4jVkcwCrXBAfL5SLTzmFrjoHNUpax4mXv     210.0\n",
       "QmNS7uSmVSyKTRnAJhZHRTXBsYVyPTwsMuTzYM4F8hiVEu    1250.0\n",
       "                                                   ...  \n",
       "QmfT6F2C6XXLNmJqpWyfqwQceQ9HAADuSEJpe2qtaQhbQs     750.0\n",
       "QmfVWe2J5bLRWrSmiyjWBLkDmNozfVH68ph9sJnrAE5nEf    3000.0\n",
       "QmfWCK6VAg9b2g7P8pDyDfq99BT5F7ny2jKVJMDYQRto1e     180.0\n",
       "QmfX3tTeeVz39w6VBPvf9UqLkhtojiXonmfXzDxGdAUBtr      50.0\n",
       "QmfYqUrrdxotDe2ErUXeQohH7PSBUeGgUSonxDRHFip2fi     250.0\n",
       "Name: sell_value, Length: 618, dtype: float64"
      ]
     },
     "execution_count": 212,
     "metadata": {},
     "output_type": "execute_result"
    }
   ],
   "source": [
    "# New gif sell_value dataframe\n",
    "new_gif_sell_value_nft_df = gif_nft_df.groupby([\"cid\"]).sum()[\"sell_value\"]\n",
    "new_gif_sell_value_nft_df"
   ]
  },
  {
   "cell_type": "code",
   "execution_count": 213,
   "id": "bab0b178",
   "metadata": {},
   "outputs": [
    {
     "data": {
      "text/plain": [
       "cid\n",
       "QmNMVyN4J6wsw8iRf6TVDBnpsiN8n9FBgNH6Cv3iVMKfmg    100.0\n",
       "QmNMmgtGT9bvcXJKkVTYFx26dpm3ZHGi6PMAdh7raWF8xY    500.0\n",
       "QmNMo2Ud7ZXTGunrLJcRRXTrv5AsrjaG1fW6dJFrLTtSfy     35.0\n",
       "QmNNsZfwe5iF77Z31U3cDcFDn3tutBmQ8x9woqp2SfGYm2    300.0\n",
       "QmNP36ZrBxtsuEvTQ5LvJ6kkDDm2GpVYjQubu1iemYjP6w    115.0\n",
       "                                                  ...  \n",
       "QmfWk9sE5RHxLShpHvm5yAAKeBwfZU3qarvBq76rL6fxiK    400.0\n",
       "QmfYgKVDxrh2RvjxPZr6a9stXjsxBNrgFcjHRwnZXozQsT    750.0\n",
       "QmfZARzqz3jHonNYN4NYtooFLKddVftdKCopKwMWqTYjcr    900.0\n",
       "QmfZVw2spVPHhaHnxrdr4W4GeQkHfdGV5z2ndNKwVVuhYa     60.0\n",
       "QmfZpy6hLgNQti8EWDkLWbKUWcrKyov5zEPLd9J5DoQn5g    500.0\n",
       "Name: sell_value, Length: 2507, dtype: float64"
      ]
     },
     "execution_count": 213,
     "metadata": {},
     "output_type": "execute_result"
    }
   ],
   "source": [
    "# New photo sell_value dataframe\n",
    "new_photo_sell_value_nft_df = photo_nft_df.groupby([\"cid\"]).sum()[\"sell_value\"]\n",
    "new_photo_sell_value_nft_df"
   ]
  },
  {
   "cell_type": "code",
   "execution_count": 214,
   "id": "4f44d598",
   "metadata": {},
   "outputs": [
    {
     "data": {
      "text/plain": [
       "cid\n",
       "QmNLzx5hmSVj2upBtPNB7yfSBSpKccNtMfaWsKCRqWGXfi      69.0\n",
       "QmNM7VKw8gzN2PLnbgJeUUui9MSYpcF9wLzkRfJsEXBssP     330.0\n",
       "QmNM8KsJkxJpZWYPEivH9mzmtun3YBCbHwTrez2H3zkc2h     400.0\n",
       "QmNTJdQNjsDhS9hwa7iuPeej4qmYTUXUL3zpwEPYZUNCHw    1000.0\n",
       "QmNVmpJrq32dg6tN7o2Zfb5CfDVsri7EHAXEV5Q3dJEstk     200.0\n",
       "                                                   ...  \n",
       "QmfSzikCPzzaUGvJVQUQSWRirUN4G8JgEU1TrsjBmftEfq     210.0\n",
       "QmfUhwksEXuwZXZDNJ6bycHw8gX3oaP6zY2NGik6t23VoR      77.0\n",
       "QmfWg43cor4WNagGG5gHSSVVfsvTZbJnnr6JTvVDvZp5Zu      35.0\n",
       "QmfXpMLztDxQSXiET1APcX652RQjm53CBf4yYPQmvXmnSf     125.0\n",
       "QmfZjWfPG8KWWkCVT6R9EmBP3e1hW9qV5ukcPsQNnD9SmG     105.0\n",
       "Name: sell_value, Length: 378, dtype: float64"
      ]
     },
     "execution_count": 214,
     "metadata": {},
     "output_type": "execute_result"
    }
   ],
   "source": [
    "# New video sell_value dataframe\n",
    "new_video_sell_value_nft_df = video_nft_df.groupby([\"cid\"]).sum()[\"sell_value\"]\n",
    "new_video_sell_value_nft_df"
   ]
  },
  {
   "cell_type": "code",
   "execution_count": 215,
   "id": "5e5d551b",
   "metadata": {},
   "outputs": [
    {
     "data": {
      "text/plain": [
       "cid\n",
       "QmNLzx5hmSVj2upBtPNB7yfSBSpKccNtMfaWsKCRqWGXfi     26.126464\n",
       "QmNM7VKw8gzN2PLnbgJeUUui9MSYpcF9wLzkRfJsEXBssP     67.005916\n",
       "QmNM8KsJkxJpZWYPEivH9mzmtun3YBCbHwTrez2H3zkc2h     81.219292\n",
       "QmNTJdQNjsDhS9hwa7iuPeej4qmYTUXUL3zpwEPYZUNCHw    378.644410\n",
       "QmNVmpJrq32dg6tN7o2Zfb5CfDVsri7EHAXEV5Q3dJEstk     75.728882\n",
       "                                                     ...    \n",
       "QmfSzikCPzzaUGvJVQUQSWRirUN4G8JgEU1TrsjBmftEfq     42.640128\n",
       "QmfUhwksEXuwZXZDNJ6bycHw8gX3oaP6zY2NGik6t23VoR     29.155620\n",
       "QmfWg43cor4WNagGG5gHSSVVfsvTZbJnnr6JTvVDvZp5Zu      7.106688\n",
       "QmfXpMLztDxQSXiET1APcX652RQjm53CBf4yYPQmvXmnSf     25.381029\n",
       "QmfZjWfPG8KWWkCVT6R9EmBP3e1hW9qV5ukcPsQNnD9SmG     39.757663\n",
       "Name: nft_token_value, Length: 378, dtype: float64"
      ]
     },
     "execution_count": 215,
     "metadata": {},
     "output_type": "execute_result"
    }
   ],
   "source": [
    "# Gif token_value dataframe\n",
    "gif_token_value_nft_df = video_nft_df.groupby([\"cid\"]).sum()[\"nft_token_value\"]\n",
    "gif_token_value_nft_df"
   ]
  },
  {
   "cell_type": "code",
   "execution_count": 216,
   "id": "231fe850",
   "metadata": {},
   "outputs": [
    {
     "data": {
      "text/plain": [
       "cid\n",
       "QmNMVyN4J6wsw8iRf6TVDBnpsiN8n9FBgNH6Cv3iVMKfmg     37.864441\n",
       "QmNMmgtGT9bvcXJKkVTYFx26dpm3ZHGi6PMAdh7raWF8xY    101.524115\n",
       "QmNMo2Ud7ZXTGunrLJcRRXTrv5AsrjaG1fW6dJFrLTtSfy     13.252554\n",
       "QmNNsZfwe5iF77Z31U3cDcFDn3tutBmQ8x9woqp2SfGYm2    113.593323\n",
       "QmNP36ZrBxtsuEvTQ5LvJ6kkDDm2GpVYjQubu1iemYjP6w     23.350546\n",
       "                                                     ...    \n",
       "QmfWk9sE5RHxLShpHvm5yAAKeBwfZU3qarvBq76rL6fxiK     81.219292\n",
       "QmfYgKVDxrh2RvjxPZr6a9stXjsxBNrgFcjHRwnZXozQsT    152.286172\n",
       "QmfZARzqz3jHonNYN4NYtooFLKddVftdKCopKwMWqTYjcr    182.743407\n",
       "QmfZVw2spVPHhaHnxrdr4W4GeQkHfdGV5z2ndNKwVVuhYa     12.182894\n",
       "QmfZpy6hLgNQti8EWDkLWbKUWcrKyov5zEPLd9J5DoQn5g    101.524115\n",
       "Name: nft_token_value, Length: 2507, dtype: float64"
      ]
     },
     "execution_count": 216,
     "metadata": {},
     "output_type": "execute_result"
    }
   ],
   "source": [
    "# Photo token_value dataframe\n",
    "photo_token_value_nft_df = photo_nft_df.groupby([\"cid\"]).sum()[\"nft_token_value\"]\n",
    "photo_token_value_nft_df"
   ]
  },
  {
   "cell_type": "code",
   "execution_count": 217,
   "id": "59d61982",
   "metadata": {},
   "outputs": [
    {
     "data": {
      "text/plain": [
       "cid\n",
       "QmNLzx5hmSVj2upBtPNB7yfSBSpKccNtMfaWsKCRqWGXfi     26.126464\n",
       "QmNM7VKw8gzN2PLnbgJeUUui9MSYpcF9wLzkRfJsEXBssP     67.005916\n",
       "QmNM8KsJkxJpZWYPEivH9mzmtun3YBCbHwTrez2H3zkc2h     81.219292\n",
       "QmNTJdQNjsDhS9hwa7iuPeej4qmYTUXUL3zpwEPYZUNCHw    378.644410\n",
       "QmNVmpJrq32dg6tN7o2Zfb5CfDVsri7EHAXEV5Q3dJEstk     75.728882\n",
       "                                                     ...    \n",
       "QmfSzikCPzzaUGvJVQUQSWRirUN4G8JgEU1TrsjBmftEfq     42.640128\n",
       "QmfUhwksEXuwZXZDNJ6bycHw8gX3oaP6zY2NGik6t23VoR     29.155620\n",
       "QmfWg43cor4WNagGG5gHSSVVfsvTZbJnnr6JTvVDvZp5Zu      7.106688\n",
       "QmfXpMLztDxQSXiET1APcX652RQjm53CBf4yYPQmvXmnSf     25.381029\n",
       "QmfZjWfPG8KWWkCVT6R9EmBP3e1hW9qV5ukcPsQNnD9SmG     39.757663\n",
       "Name: nft_token_value, Length: 378, dtype: float64"
      ]
     },
     "execution_count": 217,
     "metadata": {},
     "output_type": "execute_result"
    }
   ],
   "source": [
    "# Video token_value dataframe\n",
    "video_token_value_nft_df = video_nft_df.groupby([\"cid\"]).sum()[\"nft_token_value\"]\n",
    "video_token_value_nft_df"
   ]
  },
  {
   "cell_type": "code",
   "execution_count": 218,
   "id": "cc7928bc",
   "metadata": {},
   "outputs": [
    {
     "data": {
      "text/plain": [
       "cid\n",
       "QmNLuWLQ7fdKSZw6AvtA9HR5y3MnoU2DYYRXZbzmjwwEQN     3\n",
       "QmNQ74c5vm9TvZCcUevzRfsPvEHQ5JxFzi4suFDMwiCH13     5\n",
       "QmNQPPB3rSEAtRVqMg95qM8tfwoD2YBkWkFBCq81gF2pVA     5\n",
       "QmNR3PgTZogkS4jVkcwCrXBAfL5SLTzmFrjoHNUpax4mXv     5\n",
       "QmNS7uSmVSyKTRnAJhZHRTXBsYVyPTwsMuTzYM4F8hiVEu     5\n",
       "                                                  ..\n",
       "QmfT6F2C6XXLNmJqpWyfqwQceQ9HAADuSEJpe2qtaQhbQs     5\n",
       "QmfVWe2J5bLRWrSmiyjWBLkDmNozfVH68ph9sJnrAE5nEf    10\n",
       "QmfWCK6VAg9b2g7P8pDyDfq99BT5F7ny2jKVJMDYQRto1e     6\n",
       "QmfX3tTeeVz39w6VBPvf9UqLkhtojiXonmfXzDxGdAUBtr     5\n",
       "QmfYqUrrdxotDe2ErUXeQohH7PSBUeGgUSonxDRHFip2fi     1\n",
       "Name: tokens, Length: 618, dtype: int64"
      ]
     },
     "execution_count": 218,
     "metadata": {},
     "output_type": "execute_result"
    }
   ],
   "source": [
    "# Average token count for gif\n",
    "gif_avg_token_count = gif_nft_df.groupby([\"cid\"]).mean()[\"tokens\"]\n",
    "gif_avg_token_count"
   ]
  },
  {
   "cell_type": "code",
   "execution_count": 219,
   "id": "577d9c6f",
   "metadata": {},
   "outputs": [
    {
     "data": {
      "text/plain": [
       "cid\n",
       "QmNMVyN4J6wsw8iRf6TVDBnpsiN8n9FBgNH6Cv3iVMKfmg     5\n",
       "QmNMmgtGT9bvcXJKkVTYFx26dpm3ZHGi6PMAdh7raWF8xY     5\n",
       "QmNMo2Ud7ZXTGunrLJcRRXTrv5AsrjaG1fW6dJFrLTtSfy     1\n",
       "QmNNsZfwe5iF77Z31U3cDcFDn3tutBmQ8x9woqp2SfGYm2     2\n",
       "QmNP36ZrBxtsuEvTQ5LvJ6kkDDm2GpVYjQubu1iemYjP6w     5\n",
       "                                                  ..\n",
       "QmfWk9sE5RHxLShpHvm5yAAKeBwfZU3qarvBq76rL6fxiK     5\n",
       "QmfYgKVDxrh2RvjxPZr6a9stXjsxBNrgFcjHRwnZXozQsT     5\n",
       "QmfZARzqz3jHonNYN4NYtooFLKddVftdKCopKwMWqTYjcr    10\n",
       "QmfZVw2spVPHhaHnxrdr4W4GeQkHfdGV5z2ndNKwVVuhYa     2\n",
       "QmfZpy6hLgNQti8EWDkLWbKUWcrKyov5zEPLd9J5DoQn5g     5\n",
       "Name: tokens, Length: 2507, dtype: int64"
      ]
     },
     "execution_count": 219,
     "metadata": {},
     "output_type": "execute_result"
    }
   ],
   "source": [
    "# Average token count for photo\n",
    "photo_avg_token_count = photo_nft_df.groupby([\"cid\"]).mean()[\"tokens\"]\n",
    "photo_avg_token_count"
   ]
  },
  {
   "cell_type": "code",
   "execution_count": 220,
   "id": "71d6ee19",
   "metadata": {},
   "outputs": [],
   "source": [
    "# Average token count for video\n",
    "video_avg_token_count = video_nft_df.groupby([\"cid\"]).mean()[\"tokens\"]"
   ]
  },
  {
   "cell_type": "code",
   "execution_count": 221,
   "id": "fa32f6c9",
   "metadata": {},
   "outputs": [
    {
     "data": {
      "text/plain": [
       "cid\n",
       "QmNLuWLQ7fdKSZw6AvtA9HR5y3MnoU2DYYRXZbzmjwwEQN    1050.0\n",
       "QmNLzx5hmSVj2upBtPNB7yfSBSpKccNtMfaWsKCRqWGXfi      69.0\n",
       "QmNM7VKw8gzN2PLnbgJeUUui9MSYpcF9wLzkRfJsEXBssP     330.0\n",
       "QmNM8KsJkxJpZWYPEivH9mzmtun3YBCbHwTrez2H3zkc2h     400.0\n",
       "QmNMVyN4J6wsw8iRf6TVDBnpsiN8n9FBgNH6Cv3iVMKfmg     100.0\n",
       "                                                   ...  \n",
       "QmfYqUrrdxotDe2ErUXeQohH7PSBUeGgUSonxDRHFip2fi     250.0\n",
       "QmfZARzqz3jHonNYN4NYtooFLKddVftdKCopKwMWqTYjcr     900.0\n",
       "QmfZVw2spVPHhaHnxrdr4W4GeQkHfdGV5z2ndNKwVVuhYa      60.0\n",
       "QmfZjWfPG8KWWkCVT6R9EmBP3e1hW9qV5ukcPsQNnD9SmG     105.0\n",
       "QmfZpy6hLgNQti8EWDkLWbKUWcrKyov5zEPLd9J5DoQn5g     500.0\n",
       "Name: sell_value, Length: 3503, dtype: float64"
      ]
     },
     "execution_count": 221,
     "metadata": {},
     "output_type": "execute_result"
    }
   ],
   "source": [
    "# Create cid and sell_value dataframe\n",
    "cid_sell_value_df = nft_kaggle_df.groupby([\"cid\"]).mean()[\"sell_value\"]\n",
    "cid_sell_value_df"
   ]
  },
  {
   "cell_type": "code",
   "execution_count": 222,
   "id": "90d57442",
   "metadata": {},
   "outputs": [
    {
     "data": {
      "text/plain": [
       "cid\n",
       "QmNLuWLQ7fdKSZw6AvtA9HR5y3MnoU2DYYRXZbzmjwwEQN    213.200641\n",
       "QmNLzx5hmSVj2upBtPNB7yfSBSpKccNtMfaWsKCRqWGXfi     26.126464\n",
       "QmNM7VKw8gzN2PLnbgJeUUui9MSYpcF9wLzkRfJsEXBssP     67.005916\n",
       "QmNM8KsJkxJpZWYPEivH9mzmtun3YBCbHwTrez2H3zkc2h     81.219292\n",
       "QmNMVyN4J6wsw8iRf6TVDBnpsiN8n9FBgNH6Cv3iVMKfmg     37.864441\n",
       "                                                     ...    \n",
       "QmfYqUrrdxotDe2ErUXeQohH7PSBUeGgUSonxDRHFip2fi     50.762057\n",
       "QmfZARzqz3jHonNYN4NYtooFLKddVftdKCopKwMWqTYjcr    182.743407\n",
       "QmfZVw2spVPHhaHnxrdr4W4GeQkHfdGV5z2ndNKwVVuhYa     12.182894\n",
       "QmfZjWfPG8KWWkCVT6R9EmBP3e1hW9qV5ukcPsQNnD9SmG     39.757663\n",
       "QmfZpy6hLgNQti8EWDkLWbKUWcrKyov5zEPLd9J5DoQn5g    101.524115\n",
       "Name: nft_token_value, Length: 3503, dtype: float64"
      ]
     },
     "execution_count": 222,
     "metadata": {},
     "output_type": "execute_result"
    }
   ],
   "source": [
    "# Create cid and token_value dataframe\n",
    "cid_token_value_df = nft_kaggle_df.groupby([\"cid\"]).mean()[\"nft_token_value\"]\n",
    "cid_token_value_df"
   ]
  },
  {
   "cell_type": "code",
   "execution_count": 223,
   "id": "400630c1",
   "metadata": {},
   "outputs": [
    {
     "data": {
      "text/html": [
       "<div>\n",
       "<style scoped>\n",
       "    .dataframe tbody tr th:only-of-type {\n",
       "        vertical-align: middle;\n",
       "    }\n",
       "\n",
       "    .dataframe tbody tr th {\n",
       "        vertical-align: top;\n",
       "    }\n",
       "\n",
       "    .dataframe thead th {\n",
       "        text-align: right;\n",
       "    }\n",
       "</style>\n",
       "<table border=\"1\" class=\"dataframe\">\n",
       "  <thead>\n",
       "    <tr style=\"text-align: right;\">\n",
       "      <th></th>\n",
       "      <th>sell_value</th>\n",
       "      <th>nft_token_value</th>\n",
       "    </tr>\n",
       "    <tr>\n",
       "      <th>cid</th>\n",
       "      <th></th>\n",
       "      <th></th>\n",
       "    </tr>\n",
       "  </thead>\n",
       "  <tbody>\n",
       "    <tr>\n",
       "      <th>QmNLuWLQ7fdKSZw6AvtA9HR5y3MnoU2DYYRXZbzmjwwEQN</th>\n",
       "      <td>1050.0</td>\n",
       "      <td>213.200641</td>\n",
       "    </tr>\n",
       "    <tr>\n",
       "      <th>QmNLzx5hmSVj2upBtPNB7yfSBSpKccNtMfaWsKCRqWGXfi</th>\n",
       "      <td>69.0</td>\n",
       "      <td>26.126464</td>\n",
       "    </tr>\n",
       "    <tr>\n",
       "      <th>QmNM7VKw8gzN2PLnbgJeUUui9MSYpcF9wLzkRfJsEXBssP</th>\n",
       "      <td>330.0</td>\n",
       "      <td>67.005916</td>\n",
       "    </tr>\n",
       "    <tr>\n",
       "      <th>QmNM8KsJkxJpZWYPEivH9mzmtun3YBCbHwTrez2H3zkc2h</th>\n",
       "      <td>400.0</td>\n",
       "      <td>81.219292</td>\n",
       "    </tr>\n",
       "    <tr>\n",
       "      <th>QmNMVyN4J6wsw8iRf6TVDBnpsiN8n9FBgNH6Cv3iVMKfmg</th>\n",
       "      <td>100.0</td>\n",
       "      <td>37.864441</td>\n",
       "    </tr>\n",
       "    <tr>\n",
       "      <th>...</th>\n",
       "      <td>...</td>\n",
       "      <td>...</td>\n",
       "    </tr>\n",
       "    <tr>\n",
       "      <th>QmfYqUrrdxotDe2ErUXeQohH7PSBUeGgUSonxDRHFip2fi</th>\n",
       "      <td>250.0</td>\n",
       "      <td>50.762057</td>\n",
       "    </tr>\n",
       "    <tr>\n",
       "      <th>QmfZARzqz3jHonNYN4NYtooFLKddVftdKCopKwMWqTYjcr</th>\n",
       "      <td>900.0</td>\n",
       "      <td>182.743407</td>\n",
       "    </tr>\n",
       "    <tr>\n",
       "      <th>QmfZVw2spVPHhaHnxrdr4W4GeQkHfdGV5z2ndNKwVVuhYa</th>\n",
       "      <td>60.0</td>\n",
       "      <td>12.182894</td>\n",
       "    </tr>\n",
       "    <tr>\n",
       "      <th>QmfZjWfPG8KWWkCVT6R9EmBP3e1hW9qV5ukcPsQNnD9SmG</th>\n",
       "      <td>105.0</td>\n",
       "      <td>39.757663</td>\n",
       "    </tr>\n",
       "    <tr>\n",
       "      <th>QmfZpy6hLgNQti8EWDkLWbKUWcrKyov5zEPLd9J5DoQn5g</th>\n",
       "      <td>500.0</td>\n",
       "      <td>101.524115</td>\n",
       "    </tr>\n",
       "  </tbody>\n",
       "</table>\n",
       "<p>3503 rows × 2 columns</p>\n",
       "</div>"
      ],
      "text/plain": [
       "                                                sell_value  nft_token_value\n",
       "cid                                                                        \n",
       "QmNLuWLQ7fdKSZw6AvtA9HR5y3MnoU2DYYRXZbzmjwwEQN      1050.0       213.200641\n",
       "QmNLzx5hmSVj2upBtPNB7yfSBSpKccNtMfaWsKCRqWGXfi        69.0        26.126464\n",
       "QmNM7VKw8gzN2PLnbgJeUUui9MSYpcF9wLzkRfJsEXBssP       330.0        67.005916\n",
       "QmNM8KsJkxJpZWYPEivH9mzmtun3YBCbHwTrez2H3zkc2h       400.0        81.219292\n",
       "QmNMVyN4J6wsw8iRf6TVDBnpsiN8n9FBgNH6Cv3iVMKfmg       100.0        37.864441\n",
       "...                                                    ...              ...\n",
       "QmfYqUrrdxotDe2ErUXeQohH7PSBUeGgUSonxDRHFip2fi       250.0        50.762057\n",
       "QmfZARzqz3jHonNYN4NYtooFLKddVftdKCopKwMWqTYjcr       900.0       182.743407\n",
       "QmfZVw2spVPHhaHnxrdr4W4GeQkHfdGV5z2ndNKwVVuhYa        60.0        12.182894\n",
       "QmfZjWfPG8KWWkCVT6R9EmBP3e1hW9qV5ukcPsQNnD9SmG       105.0        39.757663\n",
       "QmfZpy6hLgNQti8EWDkLWbKUWcrKyov5zEPLd9J5DoQn5g       500.0       101.524115\n",
       "\n",
       "[3503 rows x 2 columns]"
      ]
     },
     "execution_count": 223,
     "metadata": {},
     "output_type": "execute_result"
    }
   ],
   "source": [
    "# Merge dataframes on cid\n",
    "cid_nft_df = pd.merge(cid_sell_value_df, cid_token_value_df, how=\"left\", on=[\"cid\"])\n",
    "cid_nft_df"
   ]
  },
  {
   "cell_type": "code",
   "execution_count": 224,
   "id": "3dc6cbd6",
   "metadata": {},
   "outputs": [
    {
     "data": {
      "text/plain": [
       "<matplotlib.collections.PathCollection at 0x7fc022b6f3a0>"
      ]
     },
     "execution_count": 224,
     "metadata": {},
     "output_type": "execute_result"
    },
    {
     "data": {
      "image/png": "[encoded data removed]",
      "text/plain": [
       "<Figure size 432x288 with 1 Axes>"
      ]
     },
     "metadata": {
      "needs_background": "light"
     },
     "output_type": "display_data"
    }
   ],
   "source": [
    "# Build scatter plots for sell_value vs token_value\n",
    "plt.scatter(cid_sell_value_df, cid_token_value_df)"
   ]
  },
  {
   "cell_type": "code",
   "execution_count": 225,
   "id": "a4774936",
   "metadata": {},
   "outputs": [
    {
     "data": {
      "text/plain": [
       "dtype('float64')"
      ]
     },
     "execution_count": 225,
     "metadata": {},
     "output_type": "execute_result"
    }
   ],
   "source": [
    "# Check datatypes on cid_sell\n",
    "cid_sell_value_df.dtypes"
   ]
  },
  {
   "cell_type": "code",
   "execution_count": 226,
   "id": "e1a75c69",
   "metadata": {},
   "outputs": [
    {
     "data": {
      "text/plain": [
       "dtype('float64')"
      ]
     },
     "execution_count": 226,
     "metadata": {},
     "output_type": "execute_result"
    }
   ],
   "source": [
    "# Check datatypes on cid_token\n",
    "cid_token_value_df.dtypes"
   ]
  },
  {
   "cell_type": "code",
   "execution_count": 227,
   "id": "7388d25a",
   "metadata": {},
   "outputs": [
    {
     "data": {
      "text/plain": [
       "3503"
      ]
     },
     "execution_count": 227,
     "metadata": {},
     "output_type": "execute_result"
    }
   ],
   "source": [
    "# Sell_value describe\n",
    "cid_nft_df['sell_value'].astype(int)\n",
    "# cid_nft_df['sell_value'].describe()\n",
    "cid_nft_df['sell_value'].count()"
   ]
  },
  {
   "cell_type": "code",
   "execution_count": 228,
   "id": "1f2a2be3",
   "metadata": {},
   "outputs": [
    {
     "data": {
      "text/plain": [
       "count      3503.000000\n",
       "mean        493.075009\n",
       "std        9711.397204\n",
       "min           1.218289\n",
       "25%          20.304823\n",
       "50%          45.482804\n",
       "75%         106.600321\n",
       "max      507620.575000\n",
       "Name: nft_token_value, dtype: float64"
      ]
     },
     "execution_count": 228,
     "metadata": {},
     "output_type": "execute_result"
    }
   ],
   "source": [
    "# NFT_token_value describe\n",
    "cid_nft_df['nft_token_value'].astype(int)\n",
    "cid_nft_df['nft_token_value'].describe()"
   ]
  },
  {
   "cell_type": "code",
   "execution_count": 229,
   "id": "57aa0be5",
   "metadata": {},
   "outputs": [
    {
     "data": {
      "text/plain": [
       "cid\n",
       "QmNLuWLQ7fdKSZw6AvtA9HR5y3MnoU2DYYRXZbzmjwwEQN    1050.0\n",
       "QmNLzx5hmSVj2upBtPNB7yfSBSpKccNtMfaWsKCRqWGXfi      69.0\n",
       "QmNM7VKw8gzN2PLnbgJeUUui9MSYpcF9wLzkRfJsEXBssP     330.0\n",
       "QmNM8KsJkxJpZWYPEivH9mzmtun3YBCbHwTrez2H3zkc2h     400.0\n",
       "QmNMVyN4J6wsw8iRf6TVDBnpsiN8n9FBgNH6Cv3iVMKfmg     100.0\n",
       "                                                   ...  \n",
       "QmfYqUrrdxotDe2ErUXeQohH7PSBUeGgUSonxDRHFip2fi     250.0\n",
       "QmfZARzqz3jHonNYN4NYtooFLKddVftdKCopKwMWqTYjcr     900.0\n",
       "QmfZVw2spVPHhaHnxrdr4W4GeQkHfdGV5z2ndNKwVVuhYa      60.0\n",
       "QmfZjWfPG8KWWkCVT6R9EmBP3e1hW9qV5ukcPsQNnD9SmG     105.0\n",
       "QmfZpy6hLgNQti8EWDkLWbKUWcrKyov5zEPLd9J5DoQn5g     500.0\n",
       "Name: sell_value, Length: 3503, dtype: float64"
      ]
     },
     "execution_count": 229,
     "metadata": {},
     "output_type": "execute_result"
    }
   ],
   "source": [
    "# Get the sum of sell value\n",
    "sum_sell_value = cid_nft_df.groupby(['cid']).sum()['sell_value']\n",
    "sum_sell_value"
   ]
  },
  {
   "cell_type": "code",
   "execution_count": 230,
   "id": "083d5de5",
   "metadata": {},
   "outputs": [
    {
     "data": {
      "text/plain": [
       "cid\n",
       "QmNLuWLQ7fdKSZw6AvtA9HR5y3MnoU2DYYRXZbzmjwwEQN    213.200641\n",
       "QmNLzx5hmSVj2upBtPNB7yfSBSpKccNtMfaWsKCRqWGXfi     26.126464\n",
       "QmNM7VKw8gzN2PLnbgJeUUui9MSYpcF9wLzkRfJsEXBssP     67.005916\n",
       "QmNM8KsJkxJpZWYPEivH9mzmtun3YBCbHwTrez2H3zkc2h     81.219292\n",
       "QmNMVyN4J6wsw8iRf6TVDBnpsiN8n9FBgNH6Cv3iVMKfmg     37.864441\n",
       "                                                     ...    \n",
       "QmfYqUrrdxotDe2ErUXeQohH7PSBUeGgUSonxDRHFip2fi     50.762057\n",
       "QmfZARzqz3jHonNYN4NYtooFLKddVftdKCopKwMWqTYjcr    182.743407\n",
       "QmfZVw2spVPHhaHnxrdr4W4GeQkHfdGV5z2ndNKwVVuhYa     12.182894\n",
       "QmfZjWfPG8KWWkCVT6R9EmBP3e1hW9qV5ukcPsQNnD9SmG     39.757663\n",
       "QmfZpy6hLgNQti8EWDkLWbKUWcrKyov5zEPLd9J5DoQn5g    101.524115\n",
       "Name: nft_token_value, Length: 3503, dtype: float64"
      ]
     },
     "execution_count": 230,
     "metadata": {},
     "output_type": "execute_result"
    }
   ],
   "source": [
    "# Get the sum of blockchain token value\n",
    "sum_blockchain_value = cid_nft_df.groupby(['cid']).sum()[\"nft_token_value\"]\n",
    "sum_blockchain_value"
   ]
  },
  {
   "cell_type": "code",
   "execution_count": 231,
   "id": "19ff7809",
   "metadata": {},
   "outputs": [
    {
     "data": {
      "image/png": "[encoded data removed]",
      "text/plain": [
       "<Figure size 720x432 with 1 Axes>"
      ]
     },
     "metadata": {
      "needs_background": "light"
     },
     "output_type": "display_data"
    }
   ],
   "source": [
    "# Add all ride count box-and-whisker plots to the same graph.\n",
    "x_labels = [\"Sell Value\", \"NFT Token Value\"]\n",
    "nft_sum_value = [sum_sell_value, sum_blockchain_value]\n",
    "fig, ax = plt.subplots(figsize=(10, 6))\n",
    "ax.set_title('NFT Value of Art and Blockchain',fontsize=20)\n",
    "ax.set_ylabel('Sum of Sell Value',fontsize=14)\n",
    "ax.set_xlabel(\"Blockchain Value\",fontsize=14)\n",
    "ax.boxplot(nft_sum_value, labels=x_labels)\n",
    "ax.set_yticks(np.arange(0, 45, step=3.0))\n",
    "ax.grid()\n",
    "# Save the figure.\n",
    "# plt.savefig(\"Resources/Fig2.png\")\n",
    "plt.show()"
   ]
  },
  {
   "cell_type": "code",
   "execution_count": 232,
   "id": "29cf2535",
   "metadata": {},
   "outputs": [
    {
     "data": {
      "image/png": "[encoded data removed]",
      "text/plain": [
       "<Figure size 432x288 with 1 Axes>"
      ]
     },
     "metadata": {
      "needs_background": "light"
     },
     "output_type": "display_data"
    }
   ],
   "source": [
    "# New Scatter Plot\n",
    "plt.scatter(cid_nft_df['sell_value'],\n",
    "           cid_nft_df['nft_token_value'],\n",
    "           edgecolor=\"black\", linewidths=1, marker=\"o\",\n",
    "           alpha=.9, label=\"Value\")\n",
    "# Scatter plot id\n",
    "plt.title(\"NFTs Price For Sale vs. Value of Tokens on Blockchain\")\n",
    "plt.ylabel(\"NFTs Sale Price * 100\")\n",
    "plt.xlabel(\"NFTs Blockchain Token Value\")\n",
    "plt.grid(True)\n",
    "\n",
    "plt.show()"
   ]
  },
  {
   "cell_type": "code",
   "execution_count": 242,
   "id": "6e8d783e",
   "metadata": {},
   "outputs": [],
   "source": [
    "# Create a linear regression function\n",
    "def plot_linear_regression(x_values, y_values, title, y_label):\n",
    "    (slope, intercept, r_value, p_value, std_err) = linregress(x_values, y_values)\n",
    "    regress_values = x_values + slope + intercept\n",
    "    line_eq = \"y = \" + str(round(slope,2)) + \"x + \" + str(round(intercept,2))\n",
    "    plt.scatter(x_values, y_values)\n",
    "    plt.plot(x_values, regress_values,\"r\")\n",
    "    plt.annotate(line_eq, fontsize=15, color=\"red\")\n",
    "    plt.xlabel(\"NFT's Blockchain Token Value\")\n",
    "    plt.ylabel(\"NFT's Sale Price * 100\")\n",
    "    plt.show()"
   ]
  },
  {
   "cell_type": "code",
   "execution_count": 243,
   "id": "4ac7bab5",
   "metadata": {},
   "outputs": [
    {
     "ename": "TypeError",
     "evalue": "annotate() missing 1 required positional argument: 'xy'",
     "output_type": "error",
     "traceback": [
      "\u001b[0;31m---------------------------------------------------------------------------\u001b[0m",
      "\u001b[0;31mTypeError\u001b[0m                                 Traceback (most recent call last)",
      "\u001b[0;32m<ipython-input-243-c0239b2b669a>\u001b[0m in \u001b[0;36m<module>\u001b[0;34m\u001b[0m\n\u001b[1;32m      6\u001b[0m \u001b[0;34m\u001b[0m\u001b[0m\n\u001b[1;32m      7\u001b[0m \u001b[0;34m\u001b[0m\u001b[0m\n\u001b[0;32m----> 8\u001b[0;31m \u001b[0mplot_linear_regression\u001b[0m\u001b[0;34m(\u001b[0m\u001b[0mx_values\u001b[0m\u001b[0;34m,\u001b[0m \u001b[0my_values\u001b[0m\u001b[0;34m,\u001b[0m \u001b[0;34m\"NFT's Price For Sale vs Value of Tokens on Blockchain\"\u001b[0m\u001b[0;34m,\u001b[0m \u001b[0;34m\"NFT's Sale Price * 100\"\u001b[0m\u001b[0;34m)\u001b[0m\u001b[0;34m\u001b[0m\u001b[0;34m\u001b[0m\u001b[0m\n\u001b[0m",
      "\u001b[0;32m<ipython-input-242-4222d23959d7>\u001b[0m in \u001b[0;36mplot_linear_regression\u001b[0;34m(x_values, y_values, title, y_label)\u001b[0m\n\u001b[1;32m      6\u001b[0m     \u001b[0mplt\u001b[0m\u001b[0;34m.\u001b[0m\u001b[0mscatter\u001b[0m\u001b[0;34m(\u001b[0m\u001b[0mx_values\u001b[0m\u001b[0;34m,\u001b[0m \u001b[0my_values\u001b[0m\u001b[0;34m)\u001b[0m\u001b[0;34m\u001b[0m\u001b[0;34m\u001b[0m\u001b[0m\n\u001b[1;32m      7\u001b[0m     \u001b[0mplt\u001b[0m\u001b[0;34m.\u001b[0m\u001b[0mplot\u001b[0m\u001b[0;34m(\u001b[0m\u001b[0mx_values\u001b[0m\u001b[0;34m,\u001b[0m \u001b[0mregress_values\u001b[0m\u001b[0;34m,\u001b[0m\u001b[0;34m\"r\"\u001b[0m\u001b[0;34m)\u001b[0m\u001b[0;34m\u001b[0m\u001b[0;34m\u001b[0m\u001b[0m\n\u001b[0;32m----> 8\u001b[0;31m     \u001b[0mplt\u001b[0m\u001b[0;34m.\u001b[0m\u001b[0mannotate\u001b[0m\u001b[0;34m(\u001b[0m\u001b[0mline_eq\u001b[0m\u001b[0;34m,\u001b[0m \u001b[0mfontsize\u001b[0m\u001b[0;34m=\u001b[0m\u001b[0;36m15\u001b[0m\u001b[0;34m,\u001b[0m \u001b[0mcolor\u001b[0m\u001b[0;34m=\u001b[0m\u001b[0;34m\"red\"\u001b[0m\u001b[0;34m)\u001b[0m\u001b[0;34m\u001b[0m\u001b[0;34m\u001b[0m\u001b[0m\n\u001b[0m\u001b[1;32m      9\u001b[0m     \u001b[0mplt\u001b[0m\u001b[0;34m.\u001b[0m\u001b[0mxlabel\u001b[0m\u001b[0;34m(\u001b[0m\u001b[0;34m\"NFT's Blockchain Token Value\"\u001b[0m\u001b[0;34m)\u001b[0m\u001b[0;34m\u001b[0m\u001b[0;34m\u001b[0m\u001b[0m\n\u001b[1;32m     10\u001b[0m     \u001b[0mplt\u001b[0m\u001b[0;34m.\u001b[0m\u001b[0mylabel\u001b[0m\u001b[0;34m(\u001b[0m\u001b[0;34m\"NFT's Sale Price * 100\"\u001b[0m\u001b[0;34m)\u001b[0m\u001b[0;34m\u001b[0m\u001b[0;34m\u001b[0m\u001b[0m\n",
      "\u001b[0;32m~/opt/anaconda3/lib/python3.8/site-packages/matplotlib/cbook/deprecation.py\u001b[0m in \u001b[0;36mwrapper\u001b[0;34m(*args, **kwargs)\u001b[0m\n\u001b[1;32m    313\u001b[0m                 f\"for the old name will be dropped %(removal)s.\")\n\u001b[1;32m    314\u001b[0m             \u001b[0mkwargs\u001b[0m\u001b[0;34m[\u001b[0m\u001b[0mnew\u001b[0m\u001b[0;34m]\u001b[0m \u001b[0;34m=\u001b[0m \u001b[0mkwargs\u001b[0m\u001b[0;34m.\u001b[0m\u001b[0mpop\u001b[0m\u001b[0;34m(\u001b[0m\u001b[0mold\u001b[0m\u001b[0;34m)\u001b[0m\u001b[0;34m\u001b[0m\u001b[0;34m\u001b[0m\u001b[0m\n\u001b[0;32m--> 315\u001b[0;31m         \u001b[0;32mreturn\u001b[0m \u001b[0mfunc\u001b[0m\u001b[0;34m(\u001b[0m\u001b[0;34m*\u001b[0m\u001b[0margs\u001b[0m\u001b[0;34m,\u001b[0m \u001b[0;34m**\u001b[0m\u001b[0mkwargs\u001b[0m\u001b[0;34m)\u001b[0m\u001b[0;34m\u001b[0m\u001b[0;34m\u001b[0m\u001b[0m\n\u001b[0m\u001b[1;32m    316\u001b[0m \u001b[0;34m\u001b[0m\u001b[0m\n\u001b[1;32m    317\u001b[0m     \u001b[0;31m# wrapper() must keep the same documented signature as func(): if we\u001b[0m\u001b[0;34m\u001b[0m\u001b[0;34m\u001b[0m\u001b[0;34m\u001b[0m\u001b[0m\n",
      "\u001b[0;31mTypeError\u001b[0m: annotate() missing 1 required positional argument: 'xy'"
     ]
    },
    {
     "data": {
      "image/png": "[encoded data removed]",
      "text/plain": [
       "<Figure size 432x288 with 1 Axes>"
      ]
     },
     "metadata": {
      "needs_background": "light"
     },
     "output_type": "display_data"
    }
   ],
   "source": [
    "# Set variables\n",
    "x_values = cid_sell_value_df\n",
    "y_values = cid_token_value_df\n",
    "\n",
    "# Call linear regression function\n",
    "\n",
    "\n",
    "plot_linear_regression(x_values, y_values, \"NFT's Price For Sale vs Value of Tokens on Blockchain\", \"NFT's Sale Price * 100\")"
   ]
  },
  {
   "cell_type": "code",
   "execution_count": null,
   "id": "392a1d04",
   "metadata": {},
   "outputs": [],
   "source": []
  }
 ],
 "metadata": {
  "kernelspec": {
   "display_name": "Python 3",
   "language": "python",
   "name": "python3"
  },
  "language_info": {
   "codemirror_mode": {
    "name": "ipython",
    "version": 3
   },
   "file_extension": ".py",
   "mimetype": "text/x-python",
   "name": "python",
   "nbconvert_exporter": "python",
   "pygments_lexer": "ipython3",
   "version": "3.8.8"
  }
 },
 "nbformat": 4,
 "nbformat_minor": 5
}
