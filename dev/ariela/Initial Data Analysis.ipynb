{
 "cells": [
  {
   "cell_type": "code",
   "execution_count": 1,
   "metadata": {},
   "outputs": [],
   "source": [
    "import pandas as pd\n",
    "from path import Path\n",
    "%matplotlib inline\n",
    "import matplotlib.pyplot as plt\n",
    "from sklearn.datasets import make_blobs\n",
    "from collections import Counter"
   ]
  },
  {
   "cell_type": "code",
   "execution_count": 2,
   "metadata": {},
   "outputs": [
    {
     "data": {
      "text/html": [
       "<div>\n",
       "<style scoped>\n",
       "    .dataframe tbody tr th:only-of-type {\n",
       "        vertical-align: middle;\n",
       "    }\n",
       "\n",
       "    .dataframe tbody tr th {\n",
       "        vertical-align: top;\n",
       "    }\n",
       "\n",
       "    .dataframe thead th {\n",
       "        text-align: right;\n",
       "    }\n",
       "</style>\n",
       "<table border=\"1\" class=\"dataframe\">\n",
       "  <thead>\n",
       "    <tr style=\"text-align: right;\">\n",
       "      <th></th>\n",
       "      <th>title</th>\n",
       "      <th>name</th>\n",
       "      <th>creator</th>\n",
       "      <th>art_series</th>\n",
       "      <th>price</th>\n",
       "      <th>symbol</th>\n",
       "      <th>type</th>\n",
       "      <th>likes</th>\n",
       "      <th>nsfw</th>\n",
       "      <th>tokens</th>\n",
       "      <th>year</th>\n",
       "      <th>rights</th>\n",
       "      <th>royalty</th>\n",
       "      <th>cid</th>\n",
       "      <th>path</th>\n",
       "    </tr>\n",
       "  </thead>\n",
       "  <tbody>\n",
       "    <tr>\n",
       "      <th>0</th>\n",
       "      <td>30 min Drawings</td>\n",
       "      <td>Giant Frog</td>\n",
       "      <td>kristyglas</td>\n",
       "      <td>kristyglas_30-min-drawings_giant-frog</td>\n",
       "      <td>50.0</td>\n",
       "      <td>SWAP.HIVE</td>\n",
       "      <td>PHOTO</td>\n",
       "      <td>2</td>\n",
       "      <td>False</td>\n",
       "      <td>30</td>\n",
       "      <td>2020</td>\n",
       "      <td>1</td>\n",
       "      <td>0</td>\n",
       "      <td>QmegjZDN2gyD9A6cG4efj8DwbLLGTW6isDGadNC2yVJHfH</td>\n",
       "      <td>./dataset/image/QmegjZDN2gyD9A6cG4efj8DwbLLGTW...</td>\n",
       "    </tr>\n",
       "    <tr>\n",
       "      <th>1</th>\n",
       "      <td>Experimental Video</td>\n",
       "      <td>Biospecimens</td>\n",
       "      <td>juliakponsford</td>\n",
       "      <td>juliakponsford_experimental-video_biospecimens</td>\n",
       "      <td>500.0</td>\n",
       "      <td>SWAP.HIVE</td>\n",
       "      <td>VIDEO</td>\n",
       "      <td>0</td>\n",
       "      <td>False</td>\n",
       "      <td>1</td>\n",
       "      <td>2020</td>\n",
       "      <td>1</td>\n",
       "      <td>0</td>\n",
       "      <td>QmeN4KuTQwHPWvGDhiopNJziqmf1feGeabDD4Gk7z9DgUL</td>\n",
       "      <td>./dataset/video/QmeN4KuTQwHPWvGDhiopNJziqmf1fe...</td>\n",
       "    </tr>\n",
       "    <tr>\n",
       "      <th>2</th>\n",
       "      <td>Sexy Art</td>\n",
       "      <td>long legs</td>\n",
       "      <td>badsexy</td>\n",
       "      <td>badsexy_sexy-art_long-legs</td>\n",
       "      <td>10.0</td>\n",
       "      <td>SWAP.HIVE</td>\n",
       "      <td>PHOTO</td>\n",
       "      <td>0</td>\n",
       "      <td>True</td>\n",
       "      <td>2</td>\n",
       "      <td>2021</td>\n",
       "      <td>1</td>\n",
       "      <td>0</td>\n",
       "      <td>QmaifAjZTJd8jTxNrwSoGWmFpbPYcszMF4ZcZDBwpRR4v4</td>\n",
       "      <td>./dataset/image/QmaifAjZTJd8jTxNrwSoGWmFpbPYcs...</td>\n",
       "    </tr>\n",
       "    <tr>\n",
       "      <th>3</th>\n",
       "      <td>Dream World</td>\n",
       "      <td>A Guide in my Dreams</td>\n",
       "      <td>yoslehz</td>\n",
       "      <td>yoslehz_dream-world_a-guide-in-my-dreams</td>\n",
       "      <td>20.0</td>\n",
       "      <td>SWAP.HIVE</td>\n",
       "      <td>PHOTO</td>\n",
       "      <td>1</td>\n",
       "      <td>False</td>\n",
       "      <td>2</td>\n",
       "      <td>2020</td>\n",
       "      <td>1</td>\n",
       "      <td>0</td>\n",
       "      <td>QmUTicJApSyByFb7sgsNa6cz8MG5RKsHvGLP61gxSF3JsN</td>\n",
       "      <td>./dataset/image/QmUTicJApSyByFb7sgsNa6cz8MG5RK...</td>\n",
       "    </tr>\n",
       "    <tr>\n",
       "      <th>4</th>\n",
       "      <td>Dream World</td>\n",
       "      <td>Silent Observer</td>\n",
       "      <td>yoslehz</td>\n",
       "      <td>yoslehz_dream-world_silent-observer</td>\n",
       "      <td>20.0</td>\n",
       "      <td>SWAP.HIVE</td>\n",
       "      <td>GIF</td>\n",
       "      <td>0</td>\n",
       "      <td>False</td>\n",
       "      <td>2</td>\n",
       "      <td>2020</td>\n",
       "      <td>1</td>\n",
       "      <td>0</td>\n",
       "      <td>Qmb8WbXXdorG52sgY4mSyYUjevE65SGa2vhSxdXstfinz1</td>\n",
       "      <td>./dataset/gif/Qmb8WbXXdorG52sgY4mSyYUjevE65SGa...</td>\n",
       "    </tr>\n",
       "  </tbody>\n",
       "</table>\n",
       "</div>"
      ],
      "text/plain": [
       "                title                  name         creator  \\\n",
       "0     30 min Drawings            Giant Frog      kristyglas   \n",
       "1  Experimental Video          Biospecimens  juliakponsford   \n",
       "2            Sexy Art             long legs         badsexy   \n",
       "3         Dream World  A Guide in my Dreams         yoslehz   \n",
       "4         Dream World       Silent Observer         yoslehz   \n",
       "\n",
       "                                       art_series  price     symbol   type  \\\n",
       "0           kristyglas_30-min-drawings_giant-frog   50.0  SWAP.HIVE  PHOTO   \n",
       "1  juliakponsford_experimental-video_biospecimens  500.0  SWAP.HIVE  VIDEO   \n",
       "2                      badsexy_sexy-art_long-legs   10.0  SWAP.HIVE  PHOTO   \n",
       "3        yoslehz_dream-world_a-guide-in-my-dreams   20.0  SWAP.HIVE  PHOTO   \n",
       "4             yoslehz_dream-world_silent-observer   20.0  SWAP.HIVE    GIF   \n",
       "\n",
       "   likes   nsfw  tokens  year  rights  royalty  \\\n",
       "0      2  False      30  2020       1        0   \n",
       "1      0  False       1  2020       1        0   \n",
       "2      0   True       2  2021       1        0   \n",
       "3      1  False       2  2020       1        0   \n",
       "4      0  False       2  2020       1        0   \n",
       "\n",
       "                                              cid  \\\n",
       "0  QmegjZDN2gyD9A6cG4efj8DwbLLGTW6isDGadNC2yVJHfH   \n",
       "1  QmeN4KuTQwHPWvGDhiopNJziqmf1feGeabDD4Gk7z9DgUL   \n",
       "2  QmaifAjZTJd8jTxNrwSoGWmFpbPYcszMF4ZcZDBwpRR4v4   \n",
       "3  QmUTicJApSyByFb7sgsNa6cz8MG5RKsHvGLP61gxSF3JsN   \n",
       "4  Qmb8WbXXdorG52sgY4mSyYUjevE65SGa2vhSxdXstfinz1   \n",
       "\n",
       "                                                path  \n",
       "0  ./dataset/image/QmegjZDN2gyD9A6cG4efj8DwbLLGTW...  \n",
       "1  ./dataset/video/QmeN4KuTQwHPWvGDhiopNJziqmf1fe...  \n",
       "2  ./dataset/image/QmaifAjZTJd8jTxNrwSoGWmFpbPYcs...  \n",
       "3  ./dataset/image/QmUTicJApSyByFb7sgsNa6cz8MG5RK...  \n",
       "4  ./dataset/gif/Qmb8WbXXdorG52sgY4mSyYUjevE65SGa...  "
      ]
     },
     "execution_count": 2,
     "metadata": {},
     "output_type": "execute_result"
    }
   ],
   "source": [
    "data = Path('Resources/dataset.csv')\n",
    "df = pd.read_csv(data)\n",
    "df.head()"
   ]
  },
  {
   "cell_type": "code",
   "execution_count": 3,
   "metadata": {},
   "outputs": [
    {
     "data": {
      "text/html": [
       "<div>\n",
       "<style scoped>\n",
       "    .dataframe tbody tr th:only-of-type {\n",
       "        vertical-align: middle;\n",
       "    }\n",
       "\n",
       "    .dataframe tbody tr th {\n",
       "        vertical-align: top;\n",
       "    }\n",
       "\n",
       "    .dataframe thead th {\n",
       "        text-align: right;\n",
       "    }\n",
       "</style>\n",
       "<table border=\"1\" class=\"dataframe\">\n",
       "  <thead>\n",
       "    <tr style=\"text-align: right;\">\n",
       "      <th></th>\n",
       "      <th>title</th>\n",
       "      <th>name</th>\n",
       "      <th>creator</th>\n",
       "      <th>art_series</th>\n",
       "      <th>price</th>\n",
       "      <th>symbol</th>\n",
       "      <th>type</th>\n",
       "      <th>likes</th>\n",
       "      <th>tokens</th>\n",
       "      <th>year</th>\n",
       "      <th>rights</th>\n",
       "      <th>royalty</th>\n",
       "      <th>cid</th>\n",
       "      <th>path</th>\n",
       "      <th>nsfw_False</th>\n",
       "      <th>nsfw_True</th>\n",
       "    </tr>\n",
       "  </thead>\n",
       "  <tbody>\n",
       "    <tr>\n",
       "      <th>0</th>\n",
       "      <td>30 min Drawings</td>\n",
       "      <td>Giant Frog</td>\n",
       "      <td>kristyglas</td>\n",
       "      <td>kristyglas_30-min-drawings_giant-frog</td>\n",
       "      <td>50.0</td>\n",
       "      <td>SWAP.HIVE</td>\n",
       "      <td>PHOTO</td>\n",
       "      <td>2</td>\n",
       "      <td>30</td>\n",
       "      <td>2020</td>\n",
       "      <td>1</td>\n",
       "      <td>0</td>\n",
       "      <td>QmegjZDN2gyD9A6cG4efj8DwbLLGTW6isDGadNC2yVJHfH</td>\n",
       "      <td>./dataset/image/QmegjZDN2gyD9A6cG4efj8DwbLLGTW...</td>\n",
       "      <td>1</td>\n",
       "      <td>0</td>\n",
       "    </tr>\n",
       "    <tr>\n",
       "      <th>1</th>\n",
       "      <td>Experimental Video</td>\n",
       "      <td>Biospecimens</td>\n",
       "      <td>juliakponsford</td>\n",
       "      <td>juliakponsford_experimental-video_biospecimens</td>\n",
       "      <td>500.0</td>\n",
       "      <td>SWAP.HIVE</td>\n",
       "      <td>VIDEO</td>\n",
       "      <td>0</td>\n",
       "      <td>1</td>\n",
       "      <td>2020</td>\n",
       "      <td>1</td>\n",
       "      <td>0</td>\n",
       "      <td>QmeN4KuTQwHPWvGDhiopNJziqmf1feGeabDD4Gk7z9DgUL</td>\n",
       "      <td>./dataset/video/QmeN4KuTQwHPWvGDhiopNJziqmf1fe...</td>\n",
       "      <td>1</td>\n",
       "      <td>0</td>\n",
       "    </tr>\n",
       "    <tr>\n",
       "      <th>2</th>\n",
       "      <td>Sexy Art</td>\n",
       "      <td>long legs</td>\n",
       "      <td>badsexy</td>\n",
       "      <td>badsexy_sexy-art_long-legs</td>\n",
       "      <td>10.0</td>\n",
       "      <td>SWAP.HIVE</td>\n",
       "      <td>PHOTO</td>\n",
       "      <td>0</td>\n",
       "      <td>2</td>\n",
       "      <td>2021</td>\n",
       "      <td>1</td>\n",
       "      <td>0</td>\n",
       "      <td>QmaifAjZTJd8jTxNrwSoGWmFpbPYcszMF4ZcZDBwpRR4v4</td>\n",
       "      <td>./dataset/image/QmaifAjZTJd8jTxNrwSoGWmFpbPYcs...</td>\n",
       "      <td>0</td>\n",
       "      <td>1</td>\n",
       "    </tr>\n",
       "    <tr>\n",
       "      <th>3</th>\n",
       "      <td>Dream World</td>\n",
       "      <td>A Guide in my Dreams</td>\n",
       "      <td>yoslehz</td>\n",
       "      <td>yoslehz_dream-world_a-guide-in-my-dreams</td>\n",
       "      <td>20.0</td>\n",
       "      <td>SWAP.HIVE</td>\n",
       "      <td>PHOTO</td>\n",
       "      <td>1</td>\n",
       "      <td>2</td>\n",
       "      <td>2020</td>\n",
       "      <td>1</td>\n",
       "      <td>0</td>\n",
       "      <td>QmUTicJApSyByFb7sgsNa6cz8MG5RKsHvGLP61gxSF3JsN</td>\n",
       "      <td>./dataset/image/QmUTicJApSyByFb7sgsNa6cz8MG5RK...</td>\n",
       "      <td>1</td>\n",
       "      <td>0</td>\n",
       "    </tr>\n",
       "    <tr>\n",
       "      <th>4</th>\n",
       "      <td>Dream World</td>\n",
       "      <td>Silent Observer</td>\n",
       "      <td>yoslehz</td>\n",
       "      <td>yoslehz_dream-world_silent-observer</td>\n",
       "      <td>20.0</td>\n",
       "      <td>SWAP.HIVE</td>\n",
       "      <td>GIF</td>\n",
       "      <td>0</td>\n",
       "      <td>2</td>\n",
       "      <td>2020</td>\n",
       "      <td>1</td>\n",
       "      <td>0</td>\n",
       "      <td>Qmb8WbXXdorG52sgY4mSyYUjevE65SGa2vhSxdXstfinz1</td>\n",
       "      <td>./dataset/gif/Qmb8WbXXdorG52sgY4mSyYUjevE65SGa...</td>\n",
       "      <td>1</td>\n",
       "      <td>0</td>\n",
       "    </tr>\n",
       "  </tbody>\n",
       "</table>\n",
       "</div>"
      ],
      "text/plain": [
       "                title                  name         creator  \\\n",
       "0     30 min Drawings            Giant Frog      kristyglas   \n",
       "1  Experimental Video          Biospecimens  juliakponsford   \n",
       "2            Sexy Art             long legs         badsexy   \n",
       "3         Dream World  A Guide in my Dreams         yoslehz   \n",
       "4         Dream World       Silent Observer         yoslehz   \n",
       "\n",
       "                                       art_series  price     symbol   type  \\\n",
       "0           kristyglas_30-min-drawings_giant-frog   50.0  SWAP.HIVE  PHOTO   \n",
       "1  juliakponsford_experimental-video_biospecimens  500.0  SWAP.HIVE  VIDEO   \n",
       "2                      badsexy_sexy-art_long-legs   10.0  SWAP.HIVE  PHOTO   \n",
       "3        yoslehz_dream-world_a-guide-in-my-dreams   20.0  SWAP.HIVE  PHOTO   \n",
       "4             yoslehz_dream-world_silent-observer   20.0  SWAP.HIVE    GIF   \n",
       "\n",
       "   likes  tokens  year  rights  royalty  \\\n",
       "0      2      30  2020       1        0   \n",
       "1      0       1  2020       1        0   \n",
       "2      0       2  2021       1        0   \n",
       "3      1       2  2020       1        0   \n",
       "4      0       2  2020       1        0   \n",
       "\n",
       "                                              cid  \\\n",
       "0  QmegjZDN2gyD9A6cG4efj8DwbLLGTW6isDGadNC2yVJHfH   \n",
       "1  QmeN4KuTQwHPWvGDhiopNJziqmf1feGeabDD4Gk7z9DgUL   \n",
       "2  QmaifAjZTJd8jTxNrwSoGWmFpbPYcszMF4ZcZDBwpRR4v4   \n",
       "3  QmUTicJApSyByFb7sgsNa6cz8MG5RKsHvGLP61gxSF3JsN   \n",
       "4  Qmb8WbXXdorG52sgY4mSyYUjevE65SGa2vhSxdXstfinz1   \n",
       "\n",
       "                                                path  nsfw_False  nsfw_True  \n",
       "0  ./dataset/image/QmegjZDN2gyD9A6cG4efj8DwbLLGTW...           1          0  \n",
       "1  ./dataset/video/QmeN4KuTQwHPWvGDhiopNJziqmf1fe...           1          0  \n",
       "2  ./dataset/image/QmaifAjZTJd8jTxNrwSoGWmFpbPYcs...           0          1  \n",
       "3  ./dataset/image/QmUTicJApSyByFb7sgsNa6cz8MG5RK...           1          0  \n",
       "4  ./dataset/gif/Qmb8WbXXdorG52sgY4mSyYUjevE65SGa...           1          0  "
      ]
     },
     "execution_count": 3,
     "metadata": {},
     "output_type": "execute_result"
    }
   ],
   "source": [
    "# Binary encoding using Pandas (single column) on NSFW column\n",
    "nft_binary_encoded = pd.get_dummies(df, columns=[\"nsfw\"])\n",
    "nft_binary_encoded.head()"
   ]
  },
  {
   "cell_type": "code",
   "execution_count": 4,
   "metadata": {},
   "outputs": [],
   "source": [
    "# NSFW 1=True(NSFW) and 0=False(Safe)\n",
    "y = nft_binary_encoded[\"nsfw_True\"]\n",
    "X = nft_binary_encoded.drop(columns=\"nsfw_True\")"
   ]
  },
  {
   "cell_type": "code",
   "execution_count": 16,
   "metadata": {
    "scrolled": true
   },
   "outputs": [
    {
     "data": {
      "text/plain": [
       "Counter({0: 448, 1: 47})"
      ]
     },
     "execution_count": 16,
     "metadata": {},
     "output_type": "execute_result"
    }
   ],
   "source": [
    "# Normal train-test split\n",
    "from sklearn.model_selection import train_test_split\n",
    "X_train, X_test, y_train, y_test = train_test_split(X, y, random_state=2)\n",
    "Counter(y_train)"
   ]
  },
  {
   "cell_type": "code",
   "execution_count": 18,
   "metadata": {},
   "outputs": [
    {
     "data": {
      "text/plain": [
       "Counter({0: 448, 1: 448})"
      ]
     },
     "execution_count": 18,
     "metadata": {},
     "output_type": "execute_result"
    }
   ],
   "source": [
    "# implement random oversampling\n",
    "from imblearn.over_sampling import RandomOverSampler\n",
    "ros = RandomOverSampler(random_state=2)\n",
    "X_resampled, y_resampled = ros.fit_resample(X_train, y_train)\n",
    "\n",
    "Counter(y_resampled)"
   ]
  },
  {
   "cell_type": "code",
   "execution_count": 21,
   "metadata": {},
   "outputs": [
    {
     "data": {
      "text/plain": [
       "LogisticRegression(random_state=2)"
      ]
     },
     "execution_count": 21,
     "metadata": {},
     "output_type": "execute_result"
    }
   ],
   "source": [
    "# Logistic regression using random oversampled data\n",
    "from sklearn.linear_model import LogisticRegression\n",
    "\n",
    "model = LogisticRegression(solver='lbfgs', random_state=2)\n",
    "model.fit(X_resampled, y_resampled)"
   ]
  },
  {
   "cell_type": "code",
   "execution_count": 22,
   "metadata": {},
   "outputs": [
    {
     "data": {
      "text/plain": [
       "array([[131,  21],\n",
       "       [  2,  11]], dtype=int64)"
      ]
     },
     "execution_count": 22,
     "metadata": {},
     "output_type": "execute_result"
    }
   ],
   "source": [
    "# Display the confusion matrix\n",
    "from sklearn.metrics import confusion_matrix\n",
    "\n",
    "y_pred = model.predict(X_test)\n",
    "confusion_matrix(y_test, y_pred)"
   ]
  },
  {
   "cell_type": "code",
   "execution_count": 23,
   "metadata": {},
   "outputs": [
    {
     "data": {
      "text/plain": [
       "0.853997975708502"
      ]
     },
     "execution_count": 23,
     "metadata": {},
     "output_type": "execute_result"
    }
   ],
   "source": [
    "from sklearn.metrics import balanced_accuracy_score\n",
    "\n",
    "balanced_accuracy_score(y_test, y_pred)"
   ]
  },
  {
   "cell_type": "code",
   "execution_count": 24,
   "metadata": {},
   "outputs": [
    {
     "name": "stdout",
     "output_type": "stream",
     "text": [
      "                   pre       rec       spe        f1       geo       iba       sup\n",
      "\n",
      "          0       0.98      0.86      0.85      0.92      0.85      0.73       152\n",
      "          1       0.34      0.85      0.86      0.49      0.85      0.73        13\n",
      "\n",
      "avg / total       0.93      0.86      0.85      0.89      0.85      0.73       165\n",
      "\n"
     ]
    }
   ],
   "source": [
    "# Print the imbalanced classification report\n",
    "from imblearn.metrics import classification_report_imbalanced\n",
    "print(classification_report_imbalanced(y_test, y_pred))"
   ]
  },
  {
   "cell_type": "code",
   "execution_count": null,
   "metadata": {},
   "outputs": [],
   "source": []
  }
 ],
 "metadata": {
  "kernelspec": {
   "display_name": "mlenv",
   "language": "python",
   "name": "mlenv"
  },
  "language_info": {
   "codemirror_mode": {
    "name": "ipython",
    "version": 3
   },
   "file_extension": ".py",
   "mimetype": "text/x-python",
   "name": "python",
   "nbconvert_exporter": "python",
   "pygments_lexer": "ipython3",
   "version": "3.7.9"
  }
 },
 "nbformat": 4,
 "nbformat_minor": 4
}
