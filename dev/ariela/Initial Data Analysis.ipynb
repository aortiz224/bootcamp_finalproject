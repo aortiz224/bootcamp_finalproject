{
 "cells": [
  {
   "cell_type": "code",
   "execution_count": 1,
   "metadata": {},
   "outputs": [],
   "source": [
    "import pandas as pd\n",
    "from path import Path\n",
    "import numpy as np\n",
    "%matplotlib inline\n",
    "import matplotlib.pyplot as plt\n",
    "from sklearn.datasets import make_blobs\n",
    "from collections import Counter"
   ]
  },
  {
   "cell_type": "code",
   "execution_count": 2,
   "metadata": {},
   "outputs": [
    {
     "data": {
      "text/html": [
       "<div>\n",
       "<style scoped>\n",
       "    .dataframe tbody tr th:only-of-type {\n",
       "        vertical-align: middle;\n",
       "    }\n",
       "\n",
       "    .dataframe tbody tr th {\n",
       "        vertical-align: top;\n",
       "    }\n",
       "\n",
       "    .dataframe thead th {\n",
       "        text-align: right;\n",
       "    }\n",
       "</style>\n",
       "<table border=\"1\" class=\"dataframe\">\n",
       "  <thead>\n",
       "    <tr style=\"text-align: right;\">\n",
       "      <th></th>\n",
       "      <th>title</th>\n",
       "      <th>name</th>\n",
       "      <th>creator</th>\n",
       "      <th>art_series</th>\n",
       "      <th>price</th>\n",
       "      <th>symbol</th>\n",
       "      <th>type</th>\n",
       "      <th>likes</th>\n",
       "      <th>nsfw</th>\n",
       "      <th>tokens</th>\n",
       "      <th>year</th>\n",
       "      <th>rights</th>\n",
       "      <th>royalty</th>\n",
       "      <th>cid</th>\n",
       "      <th>path</th>\n",
       "    </tr>\n",
       "  </thead>\n",
       "  <tbody>\n",
       "    <tr>\n",
       "      <th>0</th>\n",
       "      <td>30 min Drawings</td>\n",
       "      <td>Giant Frog</td>\n",
       "      <td>kristyglas</td>\n",
       "      <td>kristyglas_30-min-drawings_giant-frog</td>\n",
       "      <td>50.0</td>\n",
       "      <td>SWAP.HIVE</td>\n",
       "      <td>PHOTO</td>\n",
       "      <td>2</td>\n",
       "      <td>False</td>\n",
       "      <td>30</td>\n",
       "      <td>2020</td>\n",
       "      <td>1</td>\n",
       "      <td>0</td>\n",
       "      <td>QmegjZDN2gyD9A6cG4efj8DwbLLGTW6isDGadNC2yVJHfH</td>\n",
       "      <td>./dataset/image/QmegjZDN2gyD9A6cG4efj8DwbLLGTW...</td>\n",
       "    </tr>\n",
       "    <tr>\n",
       "      <th>1</th>\n",
       "      <td>Experimental Video</td>\n",
       "      <td>Biospecimens</td>\n",
       "      <td>juliakponsford</td>\n",
       "      <td>juliakponsford_experimental-video_biospecimens</td>\n",
       "      <td>500.0</td>\n",
       "      <td>SWAP.HIVE</td>\n",
       "      <td>VIDEO</td>\n",
       "      <td>0</td>\n",
       "      <td>False</td>\n",
       "      <td>1</td>\n",
       "      <td>2020</td>\n",
       "      <td>1</td>\n",
       "      <td>0</td>\n",
       "      <td>QmeN4KuTQwHPWvGDhiopNJziqmf1feGeabDD4Gk7z9DgUL</td>\n",
       "      <td>./dataset/video/QmeN4KuTQwHPWvGDhiopNJziqmf1fe...</td>\n",
       "    </tr>\n",
       "    <tr>\n",
       "      <th>2</th>\n",
       "      <td>Sexy Art</td>\n",
       "      <td>long legs</td>\n",
       "      <td>badsexy</td>\n",
       "      <td>badsexy_sexy-art_long-legs</td>\n",
       "      <td>10.0</td>\n",
       "      <td>SWAP.HIVE</td>\n",
       "      <td>PHOTO</td>\n",
       "      <td>0</td>\n",
       "      <td>True</td>\n",
       "      <td>2</td>\n",
       "      <td>2021</td>\n",
       "      <td>1</td>\n",
       "      <td>0</td>\n",
       "      <td>QmaifAjZTJd8jTxNrwSoGWmFpbPYcszMF4ZcZDBwpRR4v4</td>\n",
       "      <td>./dataset/image/QmaifAjZTJd8jTxNrwSoGWmFpbPYcs...</td>\n",
       "    </tr>\n",
       "    <tr>\n",
       "      <th>3</th>\n",
       "      <td>Dream World</td>\n",
       "      <td>A Guide in my Dreams</td>\n",
       "      <td>yoslehz</td>\n",
       "      <td>yoslehz_dream-world_a-guide-in-my-dreams</td>\n",
       "      <td>20.0</td>\n",
       "      <td>SWAP.HIVE</td>\n",
       "      <td>PHOTO</td>\n",
       "      <td>1</td>\n",
       "      <td>False</td>\n",
       "      <td>2</td>\n",
       "      <td>2020</td>\n",
       "      <td>1</td>\n",
       "      <td>0</td>\n",
       "      <td>QmUTicJApSyByFb7sgsNa6cz8MG5RKsHvGLP61gxSF3JsN</td>\n",
       "      <td>./dataset/image/QmUTicJApSyByFb7sgsNa6cz8MG5RK...</td>\n",
       "    </tr>\n",
       "    <tr>\n",
       "      <th>4</th>\n",
       "      <td>Dream World</td>\n",
       "      <td>Silent Observer</td>\n",
       "      <td>yoslehz</td>\n",
       "      <td>yoslehz_dream-world_silent-observer</td>\n",
       "      <td>20.0</td>\n",
       "      <td>SWAP.HIVE</td>\n",
       "      <td>GIF</td>\n",
       "      <td>0</td>\n",
       "      <td>False</td>\n",
       "      <td>2</td>\n",
       "      <td>2020</td>\n",
       "      <td>1</td>\n",
       "      <td>0</td>\n",
       "      <td>Qmb8WbXXdorG52sgY4mSyYUjevE65SGa2vhSxdXstfinz1</td>\n",
       "      <td>./dataset/gif/Qmb8WbXXdorG52sgY4mSyYUjevE65SGa...</td>\n",
       "    </tr>\n",
       "  </tbody>\n",
       "</table>\n",
       "</div>"
      ],
      "text/plain": [
       "                title                  name         creator  \\\n",
       "0     30 min Drawings            Giant Frog      kristyglas   \n",
       "1  Experimental Video          Biospecimens  juliakponsford   \n",
       "2            Sexy Art             long legs         badsexy   \n",
       "3         Dream World  A Guide in my Dreams         yoslehz   \n",
       "4         Dream World       Silent Observer         yoslehz   \n",
       "\n",
       "                                       art_series  price     symbol   type  \\\n",
       "0           kristyglas_30-min-drawings_giant-frog   50.0  SWAP.HIVE  PHOTO   \n",
       "1  juliakponsford_experimental-video_biospecimens  500.0  SWAP.HIVE  VIDEO   \n",
       "2                      badsexy_sexy-art_long-legs   10.0  SWAP.HIVE  PHOTO   \n",
       "3        yoslehz_dream-world_a-guide-in-my-dreams   20.0  SWAP.HIVE  PHOTO   \n",
       "4             yoslehz_dream-world_silent-observer   20.0  SWAP.HIVE    GIF   \n",
       "\n",
       "   likes   nsfw  tokens  year  rights  royalty  \\\n",
       "0      2  False      30  2020       1        0   \n",
       "1      0  False       1  2020       1        0   \n",
       "2      0   True       2  2021       1        0   \n",
       "3      1  False       2  2020       1        0   \n",
       "4      0  False       2  2020       1        0   \n",
       "\n",
       "                                              cid  \\\n",
       "0  QmegjZDN2gyD9A6cG4efj8DwbLLGTW6isDGadNC2yVJHfH   \n",
       "1  QmeN4KuTQwHPWvGDhiopNJziqmf1feGeabDD4Gk7z9DgUL   \n",
       "2  QmaifAjZTJd8jTxNrwSoGWmFpbPYcszMF4ZcZDBwpRR4v4   \n",
       "3  QmUTicJApSyByFb7sgsNa6cz8MG5RKsHvGLP61gxSF3JsN   \n",
       "4  Qmb8WbXXdorG52sgY4mSyYUjevE65SGa2vhSxdXstfinz1   \n",
       "\n",
       "                                                path  \n",
       "0  ./dataset/image/QmegjZDN2gyD9A6cG4efj8DwbLLGTW...  \n",
       "1  ./dataset/video/QmeN4KuTQwHPWvGDhiopNJziqmf1fe...  \n",
       "2  ./dataset/image/QmaifAjZTJd8jTxNrwSoGWmFpbPYcs...  \n",
       "3  ./dataset/image/QmUTicJApSyByFb7sgsNa6cz8MG5RK...  \n",
       "4  ./dataset/gif/Qmb8WbXXdorG52sgY4mSyYUjevE65SGa...  "
      ]
     },
     "execution_count": 2,
     "metadata": {},
     "output_type": "execute_result"
    }
   ],
   "source": [
    "data = Path('Resources/dataset.csv')\n",
    "df = pd.read_csv(data)\n",
    "df.head()"
   ]
  },
  {
   "cell_type": "code",
   "execution_count": 3,
   "metadata": {},
   "outputs": [],
   "source": [
    "df_clean = df.drop(columns=['symbol', 'cid', 'royalty', 'path'])"
   ]
  },
  {
   "cell_type": "code",
   "execution_count": 4,
   "metadata": {},
   "outputs": [],
   "source": [
    "#Filter 'Year' column from 1998 to 2021\n",
    "df_cleanv2 = df_clean[df_clean['year'].between(1998,2021)]"
   ]
  },
  {
   "cell_type": "code",
   "execution_count": 5,
   "metadata": {
    "scrolled": true
   },
   "outputs": [
    {
     "name": "stderr",
     "output_type": "stream",
     "text": [
      "C:\\Users\\ariel\\anaconda3\\envs\\mlenv\\lib\\site-packages\\ipykernel_launcher.py:1: SettingWithCopyWarning: \n",
      "A value is trying to be set on a copy of a slice from a DataFrame.\n",
      "Try using .loc[row_indexer,col_indexer] = value instead\n",
      "\n",
      "See the caveats in the documentation: https://pandas.pydata.org/pandas-docs/stable/user_guide/indexing.html#returning-a-view-versus-a-copy\n",
      "  \"\"\"Entry point for launching an IPython kernel.\n"
     ]
    }
   ],
   "source": [
    "df_cleanv2['age'] = (2022 - df_cleanv2['year'])"
   ]
  },
  {
   "cell_type": "code",
   "execution_count": 6,
   "metadata": {},
   "outputs": [],
   "source": [
    "df_cleanv3 = df_cleanv2.drop(columns = ['year'])\n",
    "# NSFW 1=True(NSFW) and 0=False(Safe)\n",
    "df_cleanv3 ['nsfw_new'] = df_cleanv3['nsfw'].replace([False, True],[0,1])"
   ]
  },
  {
   "cell_type": "code",
   "execution_count": 7,
   "metadata": {},
   "outputs": [
    {
     "data": {
      "text/html": [
       "<div>\n",
       "<style scoped>\n",
       "    .dataframe tbody tr th:only-of-type {\n",
       "        vertical-align: middle;\n",
       "    }\n",
       "\n",
       "    .dataframe tbody tr th {\n",
       "        vertical-align: top;\n",
       "    }\n",
       "\n",
       "    .dataframe thead th {\n",
       "        text-align: right;\n",
       "    }\n",
       "</style>\n",
       "<table border=\"1\" class=\"dataframe\">\n",
       "  <thead>\n",
       "    <tr style=\"text-align: right;\">\n",
       "      <th></th>\n",
       "      <th>price</th>\n",
       "      <th>likes</th>\n",
       "      <th>tokens</th>\n",
       "      <th>rights</th>\n",
       "      <th>age</th>\n",
       "      <th>nsfw_new</th>\n",
       "    </tr>\n",
       "  </thead>\n",
       "  <tbody>\n",
       "    <tr>\n",
       "      <th>0</th>\n",
       "      <td>50</td>\n",
       "      <td>2</td>\n",
       "      <td>30</td>\n",
       "      <td>1</td>\n",
       "      <td>2</td>\n",
       "      <td>0</td>\n",
       "    </tr>\n",
       "    <tr>\n",
       "      <th>1</th>\n",
       "      <td>500</td>\n",
       "      <td>0</td>\n",
       "      <td>1</td>\n",
       "      <td>1</td>\n",
       "      <td>2</td>\n",
       "      <td>0</td>\n",
       "    </tr>\n",
       "    <tr>\n",
       "      <th>2</th>\n",
       "      <td>10</td>\n",
       "      <td>0</td>\n",
       "      <td>2</td>\n",
       "      <td>1</td>\n",
       "      <td>1</td>\n",
       "      <td>1</td>\n",
       "    </tr>\n",
       "    <tr>\n",
       "      <th>3</th>\n",
       "      <td>20</td>\n",
       "      <td>1</td>\n",
       "      <td>2</td>\n",
       "      <td>1</td>\n",
       "      <td>2</td>\n",
       "      <td>0</td>\n",
       "    </tr>\n",
       "    <tr>\n",
       "      <th>4</th>\n",
       "      <td>20</td>\n",
       "      <td>0</td>\n",
       "      <td>2</td>\n",
       "      <td>1</td>\n",
       "      <td>2</td>\n",
       "      <td>0</td>\n",
       "    </tr>\n",
       "  </tbody>\n",
       "</table>\n",
       "</div>"
      ],
      "text/plain": [
       "   price  likes  tokens  rights  age  nsfw_new\n",
       "0     50      2      30       1    2         0\n",
       "1    500      0       1       1    2         0\n",
       "2     10      0       2       1    1         1\n",
       "3     20      1       2       1    2         0\n",
       "4     20      0       2       1    2         0"
      ]
     },
     "execution_count": 7,
     "metadata": {},
     "output_type": "execute_result"
    }
   ],
   "source": [
    "nsfw_dataset = df_cleanv3.drop(columns = ['nsfw','art_series','creator','name','title','type']).astype({'price': 'int64'})\n",
    "nsfw_dataset.head()"
   ]
  },
  {
   "cell_type": "code",
   "execution_count": 8,
   "metadata": {
    "scrolled": false
   },
   "outputs": [
    {
     "name": "stdout",
     "output_type": "stream",
     "text": [
      "<class 'pandas.core.frame.DataFrame'>\n",
      "Int64Index: 4175 entries, 0 to 4188\n",
      "Data columns (total 6 columns):\n",
      " #   Column    Non-Null Count  Dtype\n",
      "---  ------    --------------  -----\n",
      " 0   price     4175 non-null   int64\n",
      " 1   likes     4175 non-null   int64\n",
      " 2   tokens    4175 non-null   int64\n",
      " 3   rights    4175 non-null   int64\n",
      " 4   age       4175 non-null   int64\n",
      " 5   nsfw_new  4175 non-null   int64\n",
      "dtypes: int64(6)\n",
      "memory usage: 228.3 KB\n"
     ]
    }
   ],
   "source": [
    "nsfw_dataset.info()"
   ]
  },
  {
   "cell_type": "code",
   "execution_count": 9,
   "metadata": {},
   "outputs": [],
   "source": [
    "X = nsfw_dataset.price.values.reshape(-1,1)\n",
    "y = nsfw_dataset.nsfw_new"
   ]
  },
  {
   "cell_type": "code",
   "execution_count": 10,
   "metadata": {
    "scrolled": true
   },
   "outputs": [],
   "source": [
    "# Normal train-test split\n",
    "from sklearn.model_selection import train_test_split\n",
    "X_train, X_test, y_train, y_test = train_test_split(X, y)"
   ]
  },
  {
   "cell_type": "code",
   "execution_count": 11,
   "metadata": {},
   "outputs": [
    {
     "data": {
      "text/plain": [
       "Counter({0: 1571, 1: 1410})"
      ]
     },
     "execution_count": 11,
     "metadata": {},
     "output_type": "execute_result"
    }
   ],
   "source": [
    "# Use the SMOTEENN technique to perform combination sampling on the data\n",
    "# Count the resampled classes\n",
    "from imblearn.combine import SMOTEENN\n",
    "\n",
    "smote_enn = SMOTEENN(random_state=0)\n",
    "X_resampled, y_resampled = smote_enn.fit_resample(X, y)\n",
    "Counter(y_resampled)"
   ]
  },
  {
   "cell_type": "code",
   "execution_count": 12,
   "metadata": {},
   "outputs": [
    {
     "data": {
      "text/plain": [
       "LogisticRegression()"
      ]
     },
     "execution_count": 12,
     "metadata": {},
     "output_type": "execute_result"
    }
   ],
   "source": [
    "# Fit a Logistic regression model using random undersampled data\n",
    "from sklearn.linear_model import LogisticRegression\n",
    "model = LogisticRegression(solver='lbfgs')\n",
    "model.fit(X_resampled, y_resampled)"
   ]
  },
  {
   "cell_type": "code",
   "execution_count": 13,
   "metadata": {},
   "outputs": [
    {
     "data": {
      "image/png": "[encoded data removed]",
      "text/plain": [
       "<Figure size 432x288 with 2 Axes>"
      ]
     },
     "metadata": {
      "needs_background": "light"
     },
     "output_type": "display_data"
    }
   ],
   "source": [
    "# Display the confusion matrix\n",
    "from sklearn.metrics import confusion_matrix, plot_confusion_matrix\n",
    "y_pred = model.predict(X_test)\n",
    "confusion_matrix(y_test, y_pred)\n",
    "plot_confusion_matrix(model, X_test, y_test)  \n",
    "plt.show() "
   ]
  },
  {
   "cell_type": "code",
   "execution_count": 16,
   "metadata": {},
   "outputs": [
    {
     "data": {
      "text/plain": [
       "0.5"
      ]
     },
     "execution_count": 16,
     "metadata": {},
     "output_type": "execute_result"
    }
   ],
   "source": [
    "# Calculate the Balanced Accuracy Score\n",
    "from sklearn.metrics import balanced_accuracy_score\n",
    "\n",
    "balanced_accuracy_score(y_test, y_pred, adjusted=False)"
   ]
  },
  {
   "cell_type": "code",
   "execution_count": 17,
   "metadata": {},
   "outputs": [
    {
     "name": "stdout",
     "output_type": "stream",
     "text": [
      "                   pre       rec       spe        f1       geo       iba       sup\n",
      "\n",
      "          0       0.96      1.00      0.00      0.98      0.00      0.00      1003\n",
      "          1       0.00      0.00      1.00      0.00      0.00      0.00        41\n",
      "\n",
      "avg / total       0.92      0.96      0.04      0.94      0.00      0.00      1044\n",
      "\n"
     ]
    }
   ],
   "source": [
    "# Print the imbalanced classification report\n",
    "from imblearn.metrics import classification_report_imbalanced\n",
    "\n",
    "print(classification_report_imbalanced(y_test, y_pred))"
   ]
  },
  {
   "cell_type": "code",
   "execution_count": null,
   "metadata": {},
   "outputs": [],
   "source": []
  }
 ],
 "metadata": {
  "kernelspec": {
   "display_name": "mlenv",
   "language": "python",
   "name": "mlenv"
  },
  "language_info": {
   "codemirror_mode": {
    "name": "ipython",
    "version": 3
   },
   "file_extension": ".py",
   "mimetype": "text/x-python",
   "name": "python",
   "nbconvert_exporter": "python",
   "pygments_lexer": "ipython3",
   "version": "3.7.9"
  }
 },
 "nbformat": 4,
 "nbformat_minor": 4
}
