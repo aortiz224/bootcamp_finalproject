{
 "metadata": {
  "language_info": {
   "codemirror_mode": {
    "name": "ipython",
    "version": 3
   },
   "file_extension": ".py",
   "mimetype": "text/x-python",
   "name": "python",
   "nbconvert_exporter": "python",
   "pygments_lexer": "ipython3",
   "version": "3.7.9-final"
  },
  "orig_nbformat": 2,
  "kernelspec": {
   "name": "python379jvsc74a57bd096219b8d23a540d0b81d3a2818be104493b1b15217a509f639af6c7d6378f654",
   "display_name": "Python 3.7.9 64-bit ('mlenv': conda)"
  }
 },
 "nbformat": 4,
 "nbformat_minor": 2,
 "cells": [
  {
   "cell_type": "code",
   "execution_count": 1,
   "metadata": {},
   "outputs": [],
   "source": [
    "import pandas as pd"
   ]
  },
  {
   "cell_type": "code",
   "execution_count": 4,
   "metadata": {},
   "outputs": [
    {
     "output_type": "execute_result",
     "data": {
      "text/plain": [
       "                title                  name         creator  \\\n",
       "0     30 min Drawings            Giant Frog      kristyglas   \n",
       "1  Experimental Video          Biospecimens  juliakponsford   \n",
       "2            Sexy Art             long legs         badsexy   \n",
       "3         Dream World  A Guide in my Dreams         yoslehz   \n",
       "4         Dream World       Silent Observer         yoslehz   \n",
       "\n",
       "                                       art_series  price     symbol   type  \\\n",
       "0           kristyglas_30-min-drawings_giant-frog   50.0  SWAP.HIVE  PHOTO   \n",
       "1  juliakponsford_experimental-video_biospecimens  500.0  SWAP.HIVE  VIDEO   \n",
       "2                      badsexy_sexy-art_long-legs   10.0  SWAP.HIVE  PHOTO   \n",
       "3        yoslehz_dream-world_a-guide-in-my-dreams   20.0  SWAP.HIVE  PHOTO   \n",
       "4             yoslehz_dream-world_silent-observer   20.0  SWAP.HIVE    GIF   \n",
       "\n",
       "   likes   nsfw  tokens  year  rights  royalty  \\\n",
       "0      2  False      30  2020       1        0   \n",
       "1      0  False       1  2020       1        0   \n",
       "2      0   True       2  2021       1        0   \n",
       "3      1  False       2  2020       1        0   \n",
       "4      0  False       2  2020       1        0   \n",
       "\n",
       "                                              cid  \\\n",
       "0  QmegjZDN2gyD9A6cG4efj8DwbLLGTW6isDGadNC2yVJHfH   \n",
       "1  QmeN4KuTQwHPWvGDhiopNJziqmf1feGeabDD4Gk7z9DgUL   \n",
       "2  QmaifAjZTJd8jTxNrwSoGWmFpbPYcszMF4ZcZDBwpRR4v4   \n",
       "3  QmUTicJApSyByFb7sgsNa6cz8MG5RKsHvGLP61gxSF3JsN   \n",
       "4  Qmb8WbXXdorG52sgY4mSyYUjevE65SGa2vhSxdXstfinz1   \n",
       "\n",
       "                                                path  \n",
       "0  ./dataset/image/QmegjZDN2gyD9A6cG4efj8DwbLLGTW...  \n",
       "1  ./dataset/video/QmeN4KuTQwHPWvGDhiopNJziqmf1fe...  \n",
       "2  ./dataset/image/QmaifAjZTJd8jTxNrwSoGWmFpbPYcs...  \n",
       "3  ./dataset/image/QmUTicJApSyByFb7sgsNa6cz8MG5RK...  \n",
       "4  ./dataset/gif/Qmb8WbXXdorG52sgY4mSyYUjevE65SGa...  "
      ],
      "text/html": "<div>\n<style scoped>\n    .dataframe tbody tr th:only-of-type {\n        vertical-align: middle;\n    }\n\n    .dataframe tbody tr th {\n        vertical-align: top;\n    }\n\n    .dataframe thead th {\n        text-align: right;\n    }\n</style>\n<table border=\"1\" class=\"dataframe\">\n  <thead>\n    <tr style=\"text-align: right;\">\n      <th></th>\n      <th>title</th>\n      <th>name</th>\n      <th>creator</th>\n      <th>art_series</th>\n      <th>price</th>\n      <th>symbol</th>\n      <th>type</th>\n      <th>likes</th>\n      <th>nsfw</th>\n      <th>tokens</th>\n      <th>year</th>\n      <th>rights</th>\n      <th>royalty</th>\n      <th>cid</th>\n      <th>path</th>\n    </tr>\n  </thead>\n  <tbody>\n    <tr>\n      <th>0</th>\n      <td>30 min Drawings</td>\n      <td>Giant Frog</td>\n      <td>kristyglas</td>\n      <td>kristyglas_30-min-drawings_giant-frog</td>\n      <td>50.0</td>\n      <td>SWAP.HIVE</td>\n      <td>PHOTO</td>\n      <td>2</td>\n      <td>False</td>\n      <td>30</td>\n      <td>2020</td>\n      <td>1</td>\n      <td>0</td>\n      <td>QmegjZDN2gyD9A6cG4efj8DwbLLGTW6isDGadNC2yVJHfH</td>\n      <td>./dataset/image/QmegjZDN2gyD9A6cG4efj8DwbLLGTW...</td>\n    </tr>\n    <tr>\n      <th>1</th>\n      <td>Experimental Video</td>\n      <td>Biospecimens</td>\n      <td>juliakponsford</td>\n      <td>juliakponsford_experimental-video_biospecimens</td>\n      <td>500.0</td>\n      <td>SWAP.HIVE</td>\n      <td>VIDEO</td>\n      <td>0</td>\n      <td>False</td>\n      <td>1</td>\n      <td>2020</td>\n      <td>1</td>\n      <td>0</td>\n      <td>QmeN4KuTQwHPWvGDhiopNJziqmf1feGeabDD4Gk7z9DgUL</td>\n      <td>./dataset/video/QmeN4KuTQwHPWvGDhiopNJziqmf1fe...</td>\n    </tr>\n    <tr>\n      <th>2</th>\n      <td>Sexy Art</td>\n      <td>long legs</td>\n      <td>badsexy</td>\n      <td>badsexy_sexy-art_long-legs</td>\n      <td>10.0</td>\n      <td>SWAP.HIVE</td>\n      <td>PHOTO</td>\n      <td>0</td>\n      <td>True</td>\n      <td>2</td>\n      <td>2021</td>\n      <td>1</td>\n      <td>0</td>\n      <td>QmaifAjZTJd8jTxNrwSoGWmFpbPYcszMF4ZcZDBwpRR4v4</td>\n      <td>./dataset/image/QmaifAjZTJd8jTxNrwSoGWmFpbPYcs...</td>\n    </tr>\n    <tr>\n      <th>3</th>\n      <td>Dream World</td>\n      <td>A Guide in my Dreams</td>\n      <td>yoslehz</td>\n      <td>yoslehz_dream-world_a-guide-in-my-dreams</td>\n      <td>20.0</td>\n      <td>SWAP.HIVE</td>\n      <td>PHOTO</td>\n      <td>1</td>\n      <td>False</td>\n      <td>2</td>\n      <td>2020</td>\n      <td>1</td>\n      <td>0</td>\n      <td>QmUTicJApSyByFb7sgsNa6cz8MG5RKsHvGLP61gxSF3JsN</td>\n      <td>./dataset/image/QmUTicJApSyByFb7sgsNa6cz8MG5RK...</td>\n    </tr>\n    <tr>\n      <th>4</th>\n      <td>Dream World</td>\n      <td>Silent Observer</td>\n      <td>yoslehz</td>\n      <td>yoslehz_dream-world_silent-observer</td>\n      <td>20.0</td>\n      <td>SWAP.HIVE</td>\n      <td>GIF</td>\n      <td>0</td>\n      <td>False</td>\n      <td>2</td>\n      <td>2020</td>\n      <td>1</td>\n      <td>0</td>\n      <td>Qmb8WbXXdorG52sgY4mSyYUjevE65SGa2vhSxdXstfinz1</td>\n      <td>./dataset/gif/Qmb8WbXXdorG52sgY4mSyYUjevE65SGa...</td>\n    </tr>\n  </tbody>\n</table>\n</div>"
     },
     "metadata": {},
     "execution_count": 4
    }
   ],
   "source": [
    "#Importing file\n",
    "file_path = (\"Resources/dataset.csv\")\n",
    "NFT_df = pd.read_csv(file_path)\n",
    "\n",
    "NFT_df.head()"
   ]
  },
  {
   "cell_type": "code",
   "execution_count": 5,
   "metadata": {},
   "outputs": [
    {
     "output_type": "execute_result",
     "data": {
      "text/plain": [
       "                title                  name         creator  \\\n",
       "0     30 min Drawings            Giant Frog      kristyglas   \n",
       "1  Experimental Video          Biospecimens  juliakponsford   \n",
       "2            Sexy Art             long legs         badsexy   \n",
       "3         Dream World  A Guide in my Dreams         yoslehz   \n",
       "4         Dream World       Silent Observer         yoslehz   \n",
       "\n",
       "                                       art_series  price     symbol   type  \\\n",
       "0           kristyglas_30-min-drawings_giant-frog   50.0  SWAP.HIVE  PHOTO   \n",
       "1  juliakponsford_experimental-video_biospecimens  500.0  SWAP.HIVE  VIDEO   \n",
       "2                      badsexy_sexy-art_long-legs   10.0  SWAP.HIVE  PHOTO   \n",
       "3        yoslehz_dream-world_a-guide-in-my-dreams   20.0  SWAP.HIVE  PHOTO   \n",
       "4             yoslehz_dream-world_silent-observer   20.0  SWAP.HIVE    GIF   \n",
       "\n",
       "   likes   nsfw  tokens  year  rights  \n",
       "0      2  False      30  2020       1  \n",
       "1      0  False       1  2020       1  \n",
       "2      0   True       2  2021       1  \n",
       "3      1  False       2  2020       1  \n",
       "4      0  False       2  2020       1  "
      ],
      "text/html": "<div>\n<style scoped>\n    .dataframe tbody tr th:only-of-type {\n        vertical-align: middle;\n    }\n\n    .dataframe tbody tr th {\n        vertical-align: top;\n    }\n\n    .dataframe thead th {\n        text-align: right;\n    }\n</style>\n<table border=\"1\" class=\"dataframe\">\n  <thead>\n    <tr style=\"text-align: right;\">\n      <th></th>\n      <th>title</th>\n      <th>name</th>\n      <th>creator</th>\n      <th>art_series</th>\n      <th>price</th>\n      <th>symbol</th>\n      <th>type</th>\n      <th>likes</th>\n      <th>nsfw</th>\n      <th>tokens</th>\n      <th>year</th>\n      <th>rights</th>\n    </tr>\n  </thead>\n  <tbody>\n    <tr>\n      <th>0</th>\n      <td>30 min Drawings</td>\n      <td>Giant Frog</td>\n      <td>kristyglas</td>\n      <td>kristyglas_30-min-drawings_giant-frog</td>\n      <td>50.0</td>\n      <td>SWAP.HIVE</td>\n      <td>PHOTO</td>\n      <td>2</td>\n      <td>False</td>\n      <td>30</td>\n      <td>2020</td>\n      <td>1</td>\n    </tr>\n    <tr>\n      <th>1</th>\n      <td>Experimental Video</td>\n      <td>Biospecimens</td>\n      <td>juliakponsford</td>\n      <td>juliakponsford_experimental-video_biospecimens</td>\n      <td>500.0</td>\n      <td>SWAP.HIVE</td>\n      <td>VIDEO</td>\n      <td>0</td>\n      <td>False</td>\n      <td>1</td>\n      <td>2020</td>\n      <td>1</td>\n    </tr>\n    <tr>\n      <th>2</th>\n      <td>Sexy Art</td>\n      <td>long legs</td>\n      <td>badsexy</td>\n      <td>badsexy_sexy-art_long-legs</td>\n      <td>10.0</td>\n      <td>SWAP.HIVE</td>\n      <td>PHOTO</td>\n      <td>0</td>\n      <td>True</td>\n      <td>2</td>\n      <td>2021</td>\n      <td>1</td>\n    </tr>\n    <tr>\n      <th>3</th>\n      <td>Dream World</td>\n      <td>A Guide in my Dreams</td>\n      <td>yoslehz</td>\n      <td>yoslehz_dream-world_a-guide-in-my-dreams</td>\n      <td>20.0</td>\n      <td>SWAP.HIVE</td>\n      <td>PHOTO</td>\n      <td>1</td>\n      <td>False</td>\n      <td>2</td>\n      <td>2020</td>\n      <td>1</td>\n    </tr>\n    <tr>\n      <th>4</th>\n      <td>Dream World</td>\n      <td>Silent Observer</td>\n      <td>yoslehz</td>\n      <td>yoslehz_dream-world_silent-observer</td>\n      <td>20.0</td>\n      <td>SWAP.HIVE</td>\n      <td>GIF</td>\n      <td>0</td>\n      <td>False</td>\n      <td>2</td>\n      <td>2020</td>\n      <td>1</td>\n    </tr>\n  </tbody>\n</table>\n</div>"
     },
     "metadata": {},
     "execution_count": 5
    }
   ],
   "source": [
    "#Drop unnecessary columns\n",
    "NFT_df_clean = NFT_df.drop(columns=[\"royalty\",\"cid\",\"path\"])\n",
    "NFT_df_clean.head()"
   ]
  },
  {
   "cell_type": "code",
   "execution_count": null,
   "metadata": {},
   "outputs": [],
   "source": []
  }
 ]
}